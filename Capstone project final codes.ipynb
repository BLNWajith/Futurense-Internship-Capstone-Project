{
 "cells": [
  {
   "cell_type": "markdown",
   "metadata": {},
   "source": [
    "# Project title: Data Driven Analysis"
   ]
  },
  {
   "cell_type": "markdown",
   "metadata": {},
   "source": [
    "# Team Name: Brand Builders\n",
    "# Team Members: ASHWIN B, BLN WAJITH ALI, MOHD ZAID"
   ]
  },
  {
   "cell_type": "markdown",
   "metadata": {},
   "source": [
    "# Importance Matrix Outline\n",
    "# A1: Athlete Demographics (High Importance)\n",
    "# A2: Sports and Events (High Importance)\n",
    "# A3: Team and National Performance (Medium Importance)\n",
    "# A4: Seasonality (Medium Importance, Consider Scope)"
   ]
  },
  {
   "cell_type": "code",
   "execution_count": 1,
   "metadata": {},
   "outputs": [],
   "source": [
    "# importing the nessacery modules\n",
    "import pandas as pd\n",
    "import numpy as np\n",
    "import matplotlib.pyplot as plt\n",
    "import seaborn as sns\n",
    "from matplotlib.backends.backend_pdf import PdfPages\n",
    "import networkx as nx\n",
    "import plotly.express as px\n",
    "import plotly.graph_objects as go\n",
    "import networkx as nx\n"
   ]
  },
  {
   "cell_type": "markdown",
   "metadata": {},
   "source": [
    "# Data Cleaning Processing"
   ]
  },
  {
   "cell_type": "code",
   "execution_count": 2,
   "metadata": {},
   "outputs": [],
   "source": [
    "df = pd.read_csv('athlete_events.csv')"
   ]
  },
  {
   "cell_type": "code",
   "execution_count": 3,
   "metadata": {},
   "outputs": [
    {
     "name": "stdout",
     "output_type": "stream",
     "text": [
      "The DataSet has 15 columns with the headings of Index(['ID', 'Name', 'Sex', 'Age', 'Height', 'Weight', 'Team', 'NOC', 'Games',\n",
      "       'Year', 'Season', 'City', 'Sport', 'Event', 'Medal'],\n",
      "      dtype='object') and contains 271116 rows\n"
     ]
    }
   ],
   "source": [
    "#printing the data columns with the number of rows and\n",
    "print(f'The DataSet has {df.shape[1]} columns with the headings of {df.columns} and contains {df.shape[0]} rows')"
   ]
  },
  {
   "cell_type": "code",
   "execution_count": 4,
   "metadata": {},
   "outputs": [
    {
     "data": {
      "text/html": [
       "<div>\n",
       "<style scoped>\n",
       "    .dataframe tbody tr th:only-of-type {\n",
       "        vertical-align: middle;\n",
       "    }\n",
       "\n",
       "    .dataframe tbody tr th {\n",
       "        vertical-align: top;\n",
       "    }\n",
       "\n",
       "    .dataframe thead th {\n",
       "        text-align: right;\n",
       "    }\n",
       "</style>\n",
       "<table border=\"1\" class=\"dataframe\">\n",
       "  <thead>\n",
       "    <tr style=\"text-align: right;\">\n",
       "      <th></th>\n",
       "      <th>ID</th>\n",
       "      <th>Name</th>\n",
       "      <th>Sex</th>\n",
       "      <th>Age</th>\n",
       "      <th>Height</th>\n",
       "      <th>Weight</th>\n",
       "      <th>Team</th>\n",
       "      <th>NOC</th>\n",
       "      <th>Games</th>\n",
       "      <th>Year</th>\n",
       "      <th>Season</th>\n",
       "      <th>City</th>\n",
       "      <th>Sport</th>\n",
       "      <th>Event</th>\n",
       "      <th>Medal</th>\n",
       "    </tr>\n",
       "  </thead>\n",
       "  <tbody>\n",
       "    <tr>\n",
       "      <th>0</th>\n",
       "      <td>1</td>\n",
       "      <td>A Dijiang</td>\n",
       "      <td>M</td>\n",
       "      <td>24.0</td>\n",
       "      <td>180.0</td>\n",
       "      <td>80.0</td>\n",
       "      <td>China</td>\n",
       "      <td>CHN</td>\n",
       "      <td>1992 Summer</td>\n",
       "      <td>1992</td>\n",
       "      <td>Summer</td>\n",
       "      <td>Barcelona</td>\n",
       "      <td>Basketball</td>\n",
       "      <td>Basketball Men's Basketball</td>\n",
       "      <td>NaN</td>\n",
       "    </tr>\n",
       "    <tr>\n",
       "      <th>1</th>\n",
       "      <td>2</td>\n",
       "      <td>A Lamusi</td>\n",
       "      <td>M</td>\n",
       "      <td>23.0</td>\n",
       "      <td>170.0</td>\n",
       "      <td>60.0</td>\n",
       "      <td>China</td>\n",
       "      <td>CHN</td>\n",
       "      <td>2012 Summer</td>\n",
       "      <td>2012</td>\n",
       "      <td>Summer</td>\n",
       "      <td>London</td>\n",
       "      <td>Judo</td>\n",
       "      <td>Judo Men's Extra-Lightweight</td>\n",
       "      <td>NaN</td>\n",
       "    </tr>\n",
       "    <tr>\n",
       "      <th>2</th>\n",
       "      <td>3</td>\n",
       "      <td>Gunnar Nielsen Aaby</td>\n",
       "      <td>M</td>\n",
       "      <td>24.0</td>\n",
       "      <td>NaN</td>\n",
       "      <td>NaN</td>\n",
       "      <td>Denmark</td>\n",
       "      <td>DEN</td>\n",
       "      <td>1920 Summer</td>\n",
       "      <td>1920</td>\n",
       "      <td>Summer</td>\n",
       "      <td>Antwerpen</td>\n",
       "      <td>Football</td>\n",
       "      <td>Football Men's Football</td>\n",
       "      <td>NaN</td>\n",
       "    </tr>\n",
       "    <tr>\n",
       "      <th>3</th>\n",
       "      <td>4</td>\n",
       "      <td>Edgar Lindenau Aabye</td>\n",
       "      <td>M</td>\n",
       "      <td>34.0</td>\n",
       "      <td>NaN</td>\n",
       "      <td>NaN</td>\n",
       "      <td>Denmark/Sweden</td>\n",
       "      <td>DEN</td>\n",
       "      <td>1900 Summer</td>\n",
       "      <td>1900</td>\n",
       "      <td>Summer</td>\n",
       "      <td>Paris</td>\n",
       "      <td>Tug-Of-War</td>\n",
       "      <td>Tug-Of-War Men's Tug-Of-War</td>\n",
       "      <td>Gold</td>\n",
       "    </tr>\n",
       "    <tr>\n",
       "      <th>4</th>\n",
       "      <td>5</td>\n",
       "      <td>Christine Jacoba Aaftink</td>\n",
       "      <td>F</td>\n",
       "      <td>21.0</td>\n",
       "      <td>185.0</td>\n",
       "      <td>82.0</td>\n",
       "      <td>Netherlands</td>\n",
       "      <td>NED</td>\n",
       "      <td>1988 Winter</td>\n",
       "      <td>1988</td>\n",
       "      <td>Winter</td>\n",
       "      <td>Calgary</td>\n",
       "      <td>Speed Skating</td>\n",
       "      <td>Speed Skating Women's 500 metres</td>\n",
       "      <td>NaN</td>\n",
       "    </tr>\n",
       "    <tr>\n",
       "      <th>5</th>\n",
       "      <td>5</td>\n",
       "      <td>Christine Jacoba Aaftink</td>\n",
       "      <td>F</td>\n",
       "      <td>21.0</td>\n",
       "      <td>185.0</td>\n",
       "      <td>82.0</td>\n",
       "      <td>Netherlands</td>\n",
       "      <td>NED</td>\n",
       "      <td>1988 Winter</td>\n",
       "      <td>1988</td>\n",
       "      <td>Winter</td>\n",
       "      <td>Calgary</td>\n",
       "      <td>Speed Skating</td>\n",
       "      <td>Speed Skating Women's 1,000 metres</td>\n",
       "      <td>NaN</td>\n",
       "    </tr>\n",
       "    <tr>\n",
       "      <th>6</th>\n",
       "      <td>5</td>\n",
       "      <td>Christine Jacoba Aaftink</td>\n",
       "      <td>F</td>\n",
       "      <td>25.0</td>\n",
       "      <td>185.0</td>\n",
       "      <td>82.0</td>\n",
       "      <td>Netherlands</td>\n",
       "      <td>NED</td>\n",
       "      <td>1992 Winter</td>\n",
       "      <td>1992</td>\n",
       "      <td>Winter</td>\n",
       "      <td>Albertville</td>\n",
       "      <td>Speed Skating</td>\n",
       "      <td>Speed Skating Women's 500 metres</td>\n",
       "      <td>NaN</td>\n",
       "    </tr>\n",
       "    <tr>\n",
       "      <th>7</th>\n",
       "      <td>5</td>\n",
       "      <td>Christine Jacoba Aaftink</td>\n",
       "      <td>F</td>\n",
       "      <td>25.0</td>\n",
       "      <td>185.0</td>\n",
       "      <td>82.0</td>\n",
       "      <td>Netherlands</td>\n",
       "      <td>NED</td>\n",
       "      <td>1992 Winter</td>\n",
       "      <td>1992</td>\n",
       "      <td>Winter</td>\n",
       "      <td>Albertville</td>\n",
       "      <td>Speed Skating</td>\n",
       "      <td>Speed Skating Women's 1,000 metres</td>\n",
       "      <td>NaN</td>\n",
       "    </tr>\n",
       "    <tr>\n",
       "      <th>8</th>\n",
       "      <td>5</td>\n",
       "      <td>Christine Jacoba Aaftink</td>\n",
       "      <td>F</td>\n",
       "      <td>27.0</td>\n",
       "      <td>185.0</td>\n",
       "      <td>82.0</td>\n",
       "      <td>Netherlands</td>\n",
       "      <td>NED</td>\n",
       "      <td>1994 Winter</td>\n",
       "      <td>1994</td>\n",
       "      <td>Winter</td>\n",
       "      <td>Lillehammer</td>\n",
       "      <td>Speed Skating</td>\n",
       "      <td>Speed Skating Women's 500 metres</td>\n",
       "      <td>NaN</td>\n",
       "    </tr>\n",
       "    <tr>\n",
       "      <th>9</th>\n",
       "      <td>5</td>\n",
       "      <td>Christine Jacoba Aaftink</td>\n",
       "      <td>F</td>\n",
       "      <td>27.0</td>\n",
       "      <td>185.0</td>\n",
       "      <td>82.0</td>\n",
       "      <td>Netherlands</td>\n",
       "      <td>NED</td>\n",
       "      <td>1994 Winter</td>\n",
       "      <td>1994</td>\n",
       "      <td>Winter</td>\n",
       "      <td>Lillehammer</td>\n",
       "      <td>Speed Skating</td>\n",
       "      <td>Speed Skating Women's 1,000 metres</td>\n",
       "      <td>NaN</td>\n",
       "    </tr>\n",
       "    <tr>\n",
       "      <th>10</th>\n",
       "      <td>6</td>\n",
       "      <td>Per Knut Aaland</td>\n",
       "      <td>M</td>\n",
       "      <td>31.0</td>\n",
       "      <td>188.0</td>\n",
       "      <td>75.0</td>\n",
       "      <td>United States</td>\n",
       "      <td>USA</td>\n",
       "      <td>1992 Winter</td>\n",
       "      <td>1992</td>\n",
       "      <td>Winter</td>\n",
       "      <td>Albertville</td>\n",
       "      <td>Cross Country Skiing</td>\n",
       "      <td>Cross Country Skiing Men's 10 kilometres</td>\n",
       "      <td>NaN</td>\n",
       "    </tr>\n",
       "    <tr>\n",
       "      <th>11</th>\n",
       "      <td>6</td>\n",
       "      <td>Per Knut Aaland</td>\n",
       "      <td>M</td>\n",
       "      <td>31.0</td>\n",
       "      <td>188.0</td>\n",
       "      <td>75.0</td>\n",
       "      <td>United States</td>\n",
       "      <td>USA</td>\n",
       "      <td>1992 Winter</td>\n",
       "      <td>1992</td>\n",
       "      <td>Winter</td>\n",
       "      <td>Albertville</td>\n",
       "      <td>Cross Country Skiing</td>\n",
       "      <td>Cross Country Skiing Men's 50 kilometres</td>\n",
       "      <td>NaN</td>\n",
       "    </tr>\n",
       "    <tr>\n",
       "      <th>12</th>\n",
       "      <td>6</td>\n",
       "      <td>Per Knut Aaland</td>\n",
       "      <td>M</td>\n",
       "      <td>31.0</td>\n",
       "      <td>188.0</td>\n",
       "      <td>75.0</td>\n",
       "      <td>United States</td>\n",
       "      <td>USA</td>\n",
       "      <td>1992 Winter</td>\n",
       "      <td>1992</td>\n",
       "      <td>Winter</td>\n",
       "      <td>Albertville</td>\n",
       "      <td>Cross Country Skiing</td>\n",
       "      <td>Cross Country Skiing Men's 10/15 kilometres Pu...</td>\n",
       "      <td>NaN</td>\n",
       "    </tr>\n",
       "    <tr>\n",
       "      <th>13</th>\n",
       "      <td>6</td>\n",
       "      <td>Per Knut Aaland</td>\n",
       "      <td>M</td>\n",
       "      <td>31.0</td>\n",
       "      <td>188.0</td>\n",
       "      <td>75.0</td>\n",
       "      <td>United States</td>\n",
       "      <td>USA</td>\n",
       "      <td>1992 Winter</td>\n",
       "      <td>1992</td>\n",
       "      <td>Winter</td>\n",
       "      <td>Albertville</td>\n",
       "      <td>Cross Country Skiing</td>\n",
       "      <td>Cross Country Skiing Men's 4 x 10 kilometres R...</td>\n",
       "      <td>NaN</td>\n",
       "    </tr>\n",
       "    <tr>\n",
       "      <th>14</th>\n",
       "      <td>6</td>\n",
       "      <td>Per Knut Aaland</td>\n",
       "      <td>M</td>\n",
       "      <td>33.0</td>\n",
       "      <td>188.0</td>\n",
       "      <td>75.0</td>\n",
       "      <td>United States</td>\n",
       "      <td>USA</td>\n",
       "      <td>1994 Winter</td>\n",
       "      <td>1994</td>\n",
       "      <td>Winter</td>\n",
       "      <td>Lillehammer</td>\n",
       "      <td>Cross Country Skiing</td>\n",
       "      <td>Cross Country Skiing Men's 10 kilometres</td>\n",
       "      <td>NaN</td>\n",
       "    </tr>\n",
       "    <tr>\n",
       "      <th>15</th>\n",
       "      <td>6</td>\n",
       "      <td>Per Knut Aaland</td>\n",
       "      <td>M</td>\n",
       "      <td>33.0</td>\n",
       "      <td>188.0</td>\n",
       "      <td>75.0</td>\n",
       "      <td>United States</td>\n",
       "      <td>USA</td>\n",
       "      <td>1994 Winter</td>\n",
       "      <td>1994</td>\n",
       "      <td>Winter</td>\n",
       "      <td>Lillehammer</td>\n",
       "      <td>Cross Country Skiing</td>\n",
       "      <td>Cross Country Skiing Men's 30 kilometres</td>\n",
       "      <td>NaN</td>\n",
       "    </tr>\n",
       "    <tr>\n",
       "      <th>16</th>\n",
       "      <td>6</td>\n",
       "      <td>Per Knut Aaland</td>\n",
       "      <td>M</td>\n",
       "      <td>33.0</td>\n",
       "      <td>188.0</td>\n",
       "      <td>75.0</td>\n",
       "      <td>United States</td>\n",
       "      <td>USA</td>\n",
       "      <td>1994 Winter</td>\n",
       "      <td>1994</td>\n",
       "      <td>Winter</td>\n",
       "      <td>Lillehammer</td>\n",
       "      <td>Cross Country Skiing</td>\n",
       "      <td>Cross Country Skiing Men's 10/15 kilometres Pu...</td>\n",
       "      <td>NaN</td>\n",
       "    </tr>\n",
       "    <tr>\n",
       "      <th>17</th>\n",
       "      <td>6</td>\n",
       "      <td>Per Knut Aaland</td>\n",
       "      <td>M</td>\n",
       "      <td>33.0</td>\n",
       "      <td>188.0</td>\n",
       "      <td>75.0</td>\n",
       "      <td>United States</td>\n",
       "      <td>USA</td>\n",
       "      <td>1994 Winter</td>\n",
       "      <td>1994</td>\n",
       "      <td>Winter</td>\n",
       "      <td>Lillehammer</td>\n",
       "      <td>Cross Country Skiing</td>\n",
       "      <td>Cross Country Skiing Men's 4 x 10 kilometres R...</td>\n",
       "      <td>NaN</td>\n",
       "    </tr>\n",
       "    <tr>\n",
       "      <th>18</th>\n",
       "      <td>7</td>\n",
       "      <td>John Aalberg</td>\n",
       "      <td>M</td>\n",
       "      <td>31.0</td>\n",
       "      <td>183.0</td>\n",
       "      <td>72.0</td>\n",
       "      <td>United States</td>\n",
       "      <td>USA</td>\n",
       "      <td>1992 Winter</td>\n",
       "      <td>1992</td>\n",
       "      <td>Winter</td>\n",
       "      <td>Albertville</td>\n",
       "      <td>Cross Country Skiing</td>\n",
       "      <td>Cross Country Skiing Men's 10 kilometres</td>\n",
       "      <td>NaN</td>\n",
       "    </tr>\n",
       "    <tr>\n",
       "      <th>19</th>\n",
       "      <td>7</td>\n",
       "      <td>John Aalberg</td>\n",
       "      <td>M</td>\n",
       "      <td>31.0</td>\n",
       "      <td>183.0</td>\n",
       "      <td>72.0</td>\n",
       "      <td>United States</td>\n",
       "      <td>USA</td>\n",
       "      <td>1992 Winter</td>\n",
       "      <td>1992</td>\n",
       "      <td>Winter</td>\n",
       "      <td>Albertville</td>\n",
       "      <td>Cross Country Skiing</td>\n",
       "      <td>Cross Country Skiing Men's 50 kilometres</td>\n",
       "      <td>NaN</td>\n",
       "    </tr>\n",
       "    <tr>\n",
       "      <th>20</th>\n",
       "      <td>7</td>\n",
       "      <td>John Aalberg</td>\n",
       "      <td>M</td>\n",
       "      <td>31.0</td>\n",
       "      <td>183.0</td>\n",
       "      <td>72.0</td>\n",
       "      <td>United States</td>\n",
       "      <td>USA</td>\n",
       "      <td>1992 Winter</td>\n",
       "      <td>1992</td>\n",
       "      <td>Winter</td>\n",
       "      <td>Albertville</td>\n",
       "      <td>Cross Country Skiing</td>\n",
       "      <td>Cross Country Skiing Men's 10/15 kilometres Pu...</td>\n",
       "      <td>NaN</td>\n",
       "    </tr>\n",
       "  </tbody>\n",
       "</table>\n",
       "</div>"
      ],
      "text/plain": [
       "    ID                      Name Sex   Age  Height  Weight            Team  \\\n",
       "0    1                 A Dijiang   M  24.0   180.0    80.0           China   \n",
       "1    2                  A Lamusi   M  23.0   170.0    60.0           China   \n",
       "2    3       Gunnar Nielsen Aaby   M  24.0     NaN     NaN         Denmark   \n",
       "3    4      Edgar Lindenau Aabye   M  34.0     NaN     NaN  Denmark/Sweden   \n",
       "4    5  Christine Jacoba Aaftink   F  21.0   185.0    82.0     Netherlands   \n",
       "5    5  Christine Jacoba Aaftink   F  21.0   185.0    82.0     Netherlands   \n",
       "6    5  Christine Jacoba Aaftink   F  25.0   185.0    82.0     Netherlands   \n",
       "7    5  Christine Jacoba Aaftink   F  25.0   185.0    82.0     Netherlands   \n",
       "8    5  Christine Jacoba Aaftink   F  27.0   185.0    82.0     Netherlands   \n",
       "9    5  Christine Jacoba Aaftink   F  27.0   185.0    82.0     Netherlands   \n",
       "10   6           Per Knut Aaland   M  31.0   188.0    75.0   United States   \n",
       "11   6           Per Knut Aaland   M  31.0   188.0    75.0   United States   \n",
       "12   6           Per Knut Aaland   M  31.0   188.0    75.0   United States   \n",
       "13   6           Per Knut Aaland   M  31.0   188.0    75.0   United States   \n",
       "14   6           Per Knut Aaland   M  33.0   188.0    75.0   United States   \n",
       "15   6           Per Knut Aaland   M  33.0   188.0    75.0   United States   \n",
       "16   6           Per Knut Aaland   M  33.0   188.0    75.0   United States   \n",
       "17   6           Per Knut Aaland   M  33.0   188.0    75.0   United States   \n",
       "18   7              John Aalberg   M  31.0   183.0    72.0   United States   \n",
       "19   7              John Aalberg   M  31.0   183.0    72.0   United States   \n",
       "20   7              John Aalberg   M  31.0   183.0    72.0   United States   \n",
       "\n",
       "    NOC        Games  Year  Season         City                 Sport  \\\n",
       "0   CHN  1992 Summer  1992  Summer    Barcelona            Basketball   \n",
       "1   CHN  2012 Summer  2012  Summer       London                  Judo   \n",
       "2   DEN  1920 Summer  1920  Summer    Antwerpen              Football   \n",
       "3   DEN  1900 Summer  1900  Summer        Paris            Tug-Of-War   \n",
       "4   NED  1988 Winter  1988  Winter      Calgary         Speed Skating   \n",
       "5   NED  1988 Winter  1988  Winter      Calgary         Speed Skating   \n",
       "6   NED  1992 Winter  1992  Winter  Albertville         Speed Skating   \n",
       "7   NED  1992 Winter  1992  Winter  Albertville         Speed Skating   \n",
       "8   NED  1994 Winter  1994  Winter  Lillehammer         Speed Skating   \n",
       "9   NED  1994 Winter  1994  Winter  Lillehammer         Speed Skating   \n",
       "10  USA  1992 Winter  1992  Winter  Albertville  Cross Country Skiing   \n",
       "11  USA  1992 Winter  1992  Winter  Albertville  Cross Country Skiing   \n",
       "12  USA  1992 Winter  1992  Winter  Albertville  Cross Country Skiing   \n",
       "13  USA  1992 Winter  1992  Winter  Albertville  Cross Country Skiing   \n",
       "14  USA  1994 Winter  1994  Winter  Lillehammer  Cross Country Skiing   \n",
       "15  USA  1994 Winter  1994  Winter  Lillehammer  Cross Country Skiing   \n",
       "16  USA  1994 Winter  1994  Winter  Lillehammer  Cross Country Skiing   \n",
       "17  USA  1994 Winter  1994  Winter  Lillehammer  Cross Country Skiing   \n",
       "18  USA  1992 Winter  1992  Winter  Albertville  Cross Country Skiing   \n",
       "19  USA  1992 Winter  1992  Winter  Albertville  Cross Country Skiing   \n",
       "20  USA  1992 Winter  1992  Winter  Albertville  Cross Country Skiing   \n",
       "\n",
       "                                                Event Medal  \n",
       "0                         Basketball Men's Basketball   NaN  \n",
       "1                        Judo Men's Extra-Lightweight   NaN  \n",
       "2                             Football Men's Football   NaN  \n",
       "3                         Tug-Of-War Men's Tug-Of-War  Gold  \n",
       "4                    Speed Skating Women's 500 metres   NaN  \n",
       "5                  Speed Skating Women's 1,000 metres   NaN  \n",
       "6                    Speed Skating Women's 500 metres   NaN  \n",
       "7                  Speed Skating Women's 1,000 metres   NaN  \n",
       "8                    Speed Skating Women's 500 metres   NaN  \n",
       "9                  Speed Skating Women's 1,000 metres   NaN  \n",
       "10           Cross Country Skiing Men's 10 kilometres   NaN  \n",
       "11           Cross Country Skiing Men's 50 kilometres   NaN  \n",
       "12  Cross Country Skiing Men's 10/15 kilometres Pu...   NaN  \n",
       "13  Cross Country Skiing Men's 4 x 10 kilometres R...   NaN  \n",
       "14           Cross Country Skiing Men's 10 kilometres   NaN  \n",
       "15           Cross Country Skiing Men's 30 kilometres   NaN  \n",
       "16  Cross Country Skiing Men's 10/15 kilometres Pu...   NaN  \n",
       "17  Cross Country Skiing Men's 4 x 10 kilometres R...   NaN  \n",
       "18           Cross Country Skiing Men's 10 kilometres   NaN  \n",
       "19           Cross Country Skiing Men's 50 kilometres   NaN  \n",
       "20  Cross Country Skiing Men's 10/15 kilometres Pu...   NaN  "
      ]
     },
     "execution_count": 4,
     "metadata": {},
     "output_type": "execute_result"
    }
   ],
   "source": [
    "df.head(21)"
   ]
  },
  {
   "cell_type": "code",
   "execution_count": 5,
   "metadata": {},
   "outputs": [
    {
     "data": {
      "text/plain": [
       "<bound method NDFrame._add_numeric_operations.<locals>.sum of            ID   Name    Sex    Age  Height  Weight   Team    NOC  Games  \\\n",
       "0       False  False  False  False   False   False  False  False  False   \n",
       "1       False  False  False  False   False   False  False  False  False   \n",
       "2       False  False  False  False    True    True  False  False  False   \n",
       "3       False  False  False  False    True    True  False  False  False   \n",
       "4       False  False  False  False   False   False  False  False  False   \n",
       "...       ...    ...    ...    ...     ...     ...    ...    ...    ...   \n",
       "271111  False  False  False  False   False   False  False  False  False   \n",
       "271112  False  False  False  False   False   False  False  False  False   \n",
       "271113  False  False  False  False   False   False  False  False  False   \n",
       "271114  False  False  False  False   False   False  False  False  False   \n",
       "271115  False  False  False  False   False   False  False  False  False   \n",
       "\n",
       "         Year  Season   City  Sport  Event  Medal  \n",
       "0       False   False  False  False  False   True  \n",
       "1       False   False  False  False  False   True  \n",
       "2       False   False  False  False  False   True  \n",
       "3       False   False  False  False  False  False  \n",
       "4       False   False  False  False  False   True  \n",
       "...       ...     ...    ...    ...    ...    ...  \n",
       "271111  False   False  False  False  False   True  \n",
       "271112  False   False  False  False  False   True  \n",
       "271113  False   False  False  False  False   True  \n",
       "271114  False   False  False  False  False   True  \n",
       "271115  False   False  False  False  False   True  \n",
       "\n",
       "[271116 rows x 15 columns]>"
      ]
     },
     "execution_count": 5,
     "metadata": {},
     "output_type": "execute_result"
    }
   ],
   "source": [
    "pd.isnull(df).sum"
   ]
  },
  {
   "cell_type": "code",
   "execution_count": 6,
   "metadata": {},
   "outputs": [
    {
     "name": "stdout",
     "output_type": "stream",
     "text": [
      "<class 'pandas.core.frame.DataFrame'>\n",
      "RangeIndex: 271116 entries, 0 to 271115\n",
      "Data columns (total 15 columns):\n",
      " #   Column  Non-Null Count   Dtype  \n",
      "---  ------  --------------   -----  \n",
      " 0   ID      271116 non-null  int64  \n",
      " 1   Name    271116 non-null  object \n",
      " 2   Sex     271116 non-null  object \n",
      " 3   Age     261642 non-null  float64\n",
      " 4   Height  210945 non-null  float64\n",
      " 5   Weight  208241 non-null  float64\n",
      " 6   Team    271116 non-null  object \n",
      " 7   NOC     271116 non-null  object \n",
      " 8   Games   271116 non-null  object \n",
      " 9   Year    271116 non-null  int64  \n",
      " 10  Season  271116 non-null  object \n",
      " 11  City    271116 non-null  object \n",
      " 12  Sport   271116 non-null  object \n",
      " 13  Event   271116 non-null  object \n",
      " 14  Medal   39783 non-null   object \n",
      "dtypes: float64(3), int64(2), object(10)\n",
      "memory usage: 31.0+ MB\n"
     ]
    }
   ],
   "source": [
    "df.info()"
   ]
  },
  {
   "cell_type": "code",
   "execution_count": 7,
   "metadata": {},
   "outputs": [],
   "source": [
    "df.replace('NA', np.nan, inplace=True)\n",
    "# Handling the missing values with the mean values based on the events\n",
    "for column in ['Age', 'Height', 'Weight']:\n",
    "    df[column] = df.groupby('Event')[column].transform(lambda x: x.fillna(x.mean()))\n",
    "\n",
    "df[['Age', 'Height', 'Weight']] = df[['Age', 'Height', 'Weight']].round(1)"
   ]
  },
  {
   "cell_type": "code",
   "execution_count": 8,
   "metadata": {},
   "outputs": [
    {
     "data": {
      "text/html": [
       "<div>\n",
       "<style scoped>\n",
       "    .dataframe tbody tr th:only-of-type {\n",
       "        vertical-align: middle;\n",
       "    }\n",
       "\n",
       "    .dataframe tbody tr th {\n",
       "        vertical-align: top;\n",
       "    }\n",
       "\n",
       "    .dataframe thead th {\n",
       "        text-align: right;\n",
       "    }\n",
       "</style>\n",
       "<table border=\"1\" class=\"dataframe\">\n",
       "  <thead>\n",
       "    <tr style=\"text-align: right;\">\n",
       "      <th></th>\n",
       "      <th>ID</th>\n",
       "      <th>Name</th>\n",
       "      <th>Sex</th>\n",
       "      <th>Age</th>\n",
       "      <th>Height</th>\n",
       "      <th>Weight</th>\n",
       "      <th>Team</th>\n",
       "      <th>NOC</th>\n",
       "      <th>Games</th>\n",
       "      <th>Year</th>\n",
       "      <th>Season</th>\n",
       "      <th>City</th>\n",
       "      <th>Sport</th>\n",
       "      <th>Event</th>\n",
       "      <th>Medal</th>\n",
       "    </tr>\n",
       "  </thead>\n",
       "  <tbody>\n",
       "    <tr>\n",
       "      <th>0</th>\n",
       "      <td>1</td>\n",
       "      <td>A Dijiang</td>\n",
       "      <td>M</td>\n",
       "      <td>24.0</td>\n",
       "      <td>180.0</td>\n",
       "      <td>80.0</td>\n",
       "      <td>China</td>\n",
       "      <td>CHN</td>\n",
       "      <td>1992 Summer</td>\n",
       "      <td>1992</td>\n",
       "      <td>Summer</td>\n",
       "      <td>Barcelona</td>\n",
       "      <td>Basketball</td>\n",
       "      <td>Basketball Men's Basketball</td>\n",
       "      <td>NaN</td>\n",
       "    </tr>\n",
       "    <tr>\n",
       "      <th>1</th>\n",
       "      <td>2</td>\n",
       "      <td>A Lamusi</td>\n",
       "      <td>M</td>\n",
       "      <td>23.0</td>\n",
       "      <td>170.0</td>\n",
       "      <td>60.0</td>\n",
       "      <td>China</td>\n",
       "      <td>CHN</td>\n",
       "      <td>2012 Summer</td>\n",
       "      <td>2012</td>\n",
       "      <td>Summer</td>\n",
       "      <td>London</td>\n",
       "      <td>Judo</td>\n",
       "      <td>Judo Men's Extra-Lightweight</td>\n",
       "      <td>NaN</td>\n",
       "    </tr>\n",
       "    <tr>\n",
       "      <th>2</th>\n",
       "      <td>3</td>\n",
       "      <td>Gunnar Nielsen Aaby</td>\n",
       "      <td>M</td>\n",
       "      <td>24.0</td>\n",
       "      <td>177.5</td>\n",
       "      <td>73.1</td>\n",
       "      <td>Denmark</td>\n",
       "      <td>DEN</td>\n",
       "      <td>1920 Summer</td>\n",
       "      <td>1920</td>\n",
       "      <td>Summer</td>\n",
       "      <td>Antwerpen</td>\n",
       "      <td>Football</td>\n",
       "      <td>Football Men's Football</td>\n",
       "      <td>NaN</td>\n",
       "    </tr>\n",
       "    <tr>\n",
       "      <th>3</th>\n",
       "      <td>4</td>\n",
       "      <td>Edgar Lindenau Aabye</td>\n",
       "      <td>M</td>\n",
       "      <td>34.0</td>\n",
       "      <td>182.5</td>\n",
       "      <td>95.6</td>\n",
       "      <td>Denmark/Sweden</td>\n",
       "      <td>DEN</td>\n",
       "      <td>1900 Summer</td>\n",
       "      <td>1900</td>\n",
       "      <td>Summer</td>\n",
       "      <td>Paris</td>\n",
       "      <td>Tug-Of-War</td>\n",
       "      <td>Tug-Of-War Men's Tug-Of-War</td>\n",
       "      <td>Gold</td>\n",
       "    </tr>\n",
       "    <tr>\n",
       "      <th>4</th>\n",
       "      <td>5</td>\n",
       "      <td>Christine Jacoba Aaftink</td>\n",
       "      <td>F</td>\n",
       "      <td>21.0</td>\n",
       "      <td>185.0</td>\n",
       "      <td>82.0</td>\n",
       "      <td>Netherlands</td>\n",
       "      <td>NED</td>\n",
       "      <td>1988 Winter</td>\n",
       "      <td>1988</td>\n",
       "      <td>Winter</td>\n",
       "      <td>Calgary</td>\n",
       "      <td>Speed Skating</td>\n",
       "      <td>Speed Skating Women's 500 metres</td>\n",
       "      <td>NaN</td>\n",
       "    </tr>\n",
       "    <tr>\n",
       "      <th>5</th>\n",
       "      <td>5</td>\n",
       "      <td>Christine Jacoba Aaftink</td>\n",
       "      <td>F</td>\n",
       "      <td>21.0</td>\n",
       "      <td>185.0</td>\n",
       "      <td>82.0</td>\n",
       "      <td>Netherlands</td>\n",
       "      <td>NED</td>\n",
       "      <td>1988 Winter</td>\n",
       "      <td>1988</td>\n",
       "      <td>Winter</td>\n",
       "      <td>Calgary</td>\n",
       "      <td>Speed Skating</td>\n",
       "      <td>Speed Skating Women's 1,000 metres</td>\n",
       "      <td>NaN</td>\n",
       "    </tr>\n",
       "    <tr>\n",
       "      <th>6</th>\n",
       "      <td>5</td>\n",
       "      <td>Christine Jacoba Aaftink</td>\n",
       "      <td>F</td>\n",
       "      <td>25.0</td>\n",
       "      <td>185.0</td>\n",
       "      <td>82.0</td>\n",
       "      <td>Netherlands</td>\n",
       "      <td>NED</td>\n",
       "      <td>1992 Winter</td>\n",
       "      <td>1992</td>\n",
       "      <td>Winter</td>\n",
       "      <td>Albertville</td>\n",
       "      <td>Speed Skating</td>\n",
       "      <td>Speed Skating Women's 500 metres</td>\n",
       "      <td>NaN</td>\n",
       "    </tr>\n",
       "    <tr>\n",
       "      <th>7</th>\n",
       "      <td>5</td>\n",
       "      <td>Christine Jacoba Aaftink</td>\n",
       "      <td>F</td>\n",
       "      <td>25.0</td>\n",
       "      <td>185.0</td>\n",
       "      <td>82.0</td>\n",
       "      <td>Netherlands</td>\n",
       "      <td>NED</td>\n",
       "      <td>1992 Winter</td>\n",
       "      <td>1992</td>\n",
       "      <td>Winter</td>\n",
       "      <td>Albertville</td>\n",
       "      <td>Speed Skating</td>\n",
       "      <td>Speed Skating Women's 1,000 metres</td>\n",
       "      <td>NaN</td>\n",
       "    </tr>\n",
       "    <tr>\n",
       "      <th>8</th>\n",
       "      <td>5</td>\n",
       "      <td>Christine Jacoba Aaftink</td>\n",
       "      <td>F</td>\n",
       "      <td>27.0</td>\n",
       "      <td>185.0</td>\n",
       "      <td>82.0</td>\n",
       "      <td>Netherlands</td>\n",
       "      <td>NED</td>\n",
       "      <td>1994 Winter</td>\n",
       "      <td>1994</td>\n",
       "      <td>Winter</td>\n",
       "      <td>Lillehammer</td>\n",
       "      <td>Speed Skating</td>\n",
       "      <td>Speed Skating Women's 500 metres</td>\n",
       "      <td>NaN</td>\n",
       "    </tr>\n",
       "    <tr>\n",
       "      <th>9</th>\n",
       "      <td>5</td>\n",
       "      <td>Christine Jacoba Aaftink</td>\n",
       "      <td>F</td>\n",
       "      <td>27.0</td>\n",
       "      <td>185.0</td>\n",
       "      <td>82.0</td>\n",
       "      <td>Netherlands</td>\n",
       "      <td>NED</td>\n",
       "      <td>1994 Winter</td>\n",
       "      <td>1994</td>\n",
       "      <td>Winter</td>\n",
       "      <td>Lillehammer</td>\n",
       "      <td>Speed Skating</td>\n",
       "      <td>Speed Skating Women's 1,000 metres</td>\n",
       "      <td>NaN</td>\n",
       "    </tr>\n",
       "    <tr>\n",
       "      <th>10</th>\n",
       "      <td>6</td>\n",
       "      <td>Per Knut Aaland</td>\n",
       "      <td>M</td>\n",
       "      <td>31.0</td>\n",
       "      <td>188.0</td>\n",
       "      <td>75.0</td>\n",
       "      <td>United States</td>\n",
       "      <td>USA</td>\n",
       "      <td>1992 Winter</td>\n",
       "      <td>1992</td>\n",
       "      <td>Winter</td>\n",
       "      <td>Albertville</td>\n",
       "      <td>Cross Country Skiing</td>\n",
       "      <td>Cross Country Skiing Men's 10 kilometres</td>\n",
       "      <td>NaN</td>\n",
       "    </tr>\n",
       "    <tr>\n",
       "      <th>11</th>\n",
       "      <td>6</td>\n",
       "      <td>Per Knut Aaland</td>\n",
       "      <td>M</td>\n",
       "      <td>31.0</td>\n",
       "      <td>188.0</td>\n",
       "      <td>75.0</td>\n",
       "      <td>United States</td>\n",
       "      <td>USA</td>\n",
       "      <td>1992 Winter</td>\n",
       "      <td>1992</td>\n",
       "      <td>Winter</td>\n",
       "      <td>Albertville</td>\n",
       "      <td>Cross Country Skiing</td>\n",
       "      <td>Cross Country Skiing Men's 50 kilometres</td>\n",
       "      <td>NaN</td>\n",
       "    </tr>\n",
       "    <tr>\n",
       "      <th>12</th>\n",
       "      <td>6</td>\n",
       "      <td>Per Knut Aaland</td>\n",
       "      <td>M</td>\n",
       "      <td>31.0</td>\n",
       "      <td>188.0</td>\n",
       "      <td>75.0</td>\n",
       "      <td>United States</td>\n",
       "      <td>USA</td>\n",
       "      <td>1992 Winter</td>\n",
       "      <td>1992</td>\n",
       "      <td>Winter</td>\n",
       "      <td>Albertville</td>\n",
       "      <td>Cross Country Skiing</td>\n",
       "      <td>Cross Country Skiing Men's 10/15 kilometres Pu...</td>\n",
       "      <td>NaN</td>\n",
       "    </tr>\n",
       "    <tr>\n",
       "      <th>13</th>\n",
       "      <td>6</td>\n",
       "      <td>Per Knut Aaland</td>\n",
       "      <td>M</td>\n",
       "      <td>31.0</td>\n",
       "      <td>188.0</td>\n",
       "      <td>75.0</td>\n",
       "      <td>United States</td>\n",
       "      <td>USA</td>\n",
       "      <td>1992 Winter</td>\n",
       "      <td>1992</td>\n",
       "      <td>Winter</td>\n",
       "      <td>Albertville</td>\n",
       "      <td>Cross Country Skiing</td>\n",
       "      <td>Cross Country Skiing Men's 4 x 10 kilometres R...</td>\n",
       "      <td>NaN</td>\n",
       "    </tr>\n",
       "    <tr>\n",
       "      <th>14</th>\n",
       "      <td>6</td>\n",
       "      <td>Per Knut Aaland</td>\n",
       "      <td>M</td>\n",
       "      <td>33.0</td>\n",
       "      <td>188.0</td>\n",
       "      <td>75.0</td>\n",
       "      <td>United States</td>\n",
       "      <td>USA</td>\n",
       "      <td>1994 Winter</td>\n",
       "      <td>1994</td>\n",
       "      <td>Winter</td>\n",
       "      <td>Lillehammer</td>\n",
       "      <td>Cross Country Skiing</td>\n",
       "      <td>Cross Country Skiing Men's 10 kilometres</td>\n",
       "      <td>NaN</td>\n",
       "    </tr>\n",
       "    <tr>\n",
       "      <th>15</th>\n",
       "      <td>6</td>\n",
       "      <td>Per Knut Aaland</td>\n",
       "      <td>M</td>\n",
       "      <td>33.0</td>\n",
       "      <td>188.0</td>\n",
       "      <td>75.0</td>\n",
       "      <td>United States</td>\n",
       "      <td>USA</td>\n",
       "      <td>1994 Winter</td>\n",
       "      <td>1994</td>\n",
       "      <td>Winter</td>\n",
       "      <td>Lillehammer</td>\n",
       "      <td>Cross Country Skiing</td>\n",
       "      <td>Cross Country Skiing Men's 30 kilometres</td>\n",
       "      <td>NaN</td>\n",
       "    </tr>\n",
       "    <tr>\n",
       "      <th>16</th>\n",
       "      <td>6</td>\n",
       "      <td>Per Knut Aaland</td>\n",
       "      <td>M</td>\n",
       "      <td>33.0</td>\n",
       "      <td>188.0</td>\n",
       "      <td>75.0</td>\n",
       "      <td>United States</td>\n",
       "      <td>USA</td>\n",
       "      <td>1994 Winter</td>\n",
       "      <td>1994</td>\n",
       "      <td>Winter</td>\n",
       "      <td>Lillehammer</td>\n",
       "      <td>Cross Country Skiing</td>\n",
       "      <td>Cross Country Skiing Men's 10/15 kilometres Pu...</td>\n",
       "      <td>NaN</td>\n",
       "    </tr>\n",
       "    <tr>\n",
       "      <th>17</th>\n",
       "      <td>6</td>\n",
       "      <td>Per Knut Aaland</td>\n",
       "      <td>M</td>\n",
       "      <td>33.0</td>\n",
       "      <td>188.0</td>\n",
       "      <td>75.0</td>\n",
       "      <td>United States</td>\n",
       "      <td>USA</td>\n",
       "      <td>1994 Winter</td>\n",
       "      <td>1994</td>\n",
       "      <td>Winter</td>\n",
       "      <td>Lillehammer</td>\n",
       "      <td>Cross Country Skiing</td>\n",
       "      <td>Cross Country Skiing Men's 4 x 10 kilometres R...</td>\n",
       "      <td>NaN</td>\n",
       "    </tr>\n",
       "    <tr>\n",
       "      <th>18</th>\n",
       "      <td>7</td>\n",
       "      <td>John Aalberg</td>\n",
       "      <td>M</td>\n",
       "      <td>31.0</td>\n",
       "      <td>183.0</td>\n",
       "      <td>72.0</td>\n",
       "      <td>United States</td>\n",
       "      <td>USA</td>\n",
       "      <td>1992 Winter</td>\n",
       "      <td>1992</td>\n",
       "      <td>Winter</td>\n",
       "      <td>Albertville</td>\n",
       "      <td>Cross Country Skiing</td>\n",
       "      <td>Cross Country Skiing Men's 10 kilometres</td>\n",
       "      <td>NaN</td>\n",
       "    </tr>\n",
       "    <tr>\n",
       "      <th>19</th>\n",
       "      <td>7</td>\n",
       "      <td>John Aalberg</td>\n",
       "      <td>M</td>\n",
       "      <td>31.0</td>\n",
       "      <td>183.0</td>\n",
       "      <td>72.0</td>\n",
       "      <td>United States</td>\n",
       "      <td>USA</td>\n",
       "      <td>1992 Winter</td>\n",
       "      <td>1992</td>\n",
       "      <td>Winter</td>\n",
       "      <td>Albertville</td>\n",
       "      <td>Cross Country Skiing</td>\n",
       "      <td>Cross Country Skiing Men's 50 kilometres</td>\n",
       "      <td>NaN</td>\n",
       "    </tr>\n",
       "    <tr>\n",
       "      <th>20</th>\n",
       "      <td>7</td>\n",
       "      <td>John Aalberg</td>\n",
       "      <td>M</td>\n",
       "      <td>31.0</td>\n",
       "      <td>183.0</td>\n",
       "      <td>72.0</td>\n",
       "      <td>United States</td>\n",
       "      <td>USA</td>\n",
       "      <td>1992 Winter</td>\n",
       "      <td>1992</td>\n",
       "      <td>Winter</td>\n",
       "      <td>Albertville</td>\n",
       "      <td>Cross Country Skiing</td>\n",
       "      <td>Cross Country Skiing Men's 10/15 kilometres Pu...</td>\n",
       "      <td>NaN</td>\n",
       "    </tr>\n",
       "  </tbody>\n",
       "</table>\n",
       "</div>"
      ],
      "text/plain": [
       "    ID                      Name Sex   Age  Height  Weight            Team  \\\n",
       "0    1                 A Dijiang   M  24.0   180.0    80.0           China   \n",
       "1    2                  A Lamusi   M  23.0   170.0    60.0           China   \n",
       "2    3       Gunnar Nielsen Aaby   M  24.0   177.5    73.1         Denmark   \n",
       "3    4      Edgar Lindenau Aabye   M  34.0   182.5    95.6  Denmark/Sweden   \n",
       "4    5  Christine Jacoba Aaftink   F  21.0   185.0    82.0     Netherlands   \n",
       "5    5  Christine Jacoba Aaftink   F  21.0   185.0    82.0     Netherlands   \n",
       "6    5  Christine Jacoba Aaftink   F  25.0   185.0    82.0     Netherlands   \n",
       "7    5  Christine Jacoba Aaftink   F  25.0   185.0    82.0     Netherlands   \n",
       "8    5  Christine Jacoba Aaftink   F  27.0   185.0    82.0     Netherlands   \n",
       "9    5  Christine Jacoba Aaftink   F  27.0   185.0    82.0     Netherlands   \n",
       "10   6           Per Knut Aaland   M  31.0   188.0    75.0   United States   \n",
       "11   6           Per Knut Aaland   M  31.0   188.0    75.0   United States   \n",
       "12   6           Per Knut Aaland   M  31.0   188.0    75.0   United States   \n",
       "13   6           Per Knut Aaland   M  31.0   188.0    75.0   United States   \n",
       "14   6           Per Knut Aaland   M  33.0   188.0    75.0   United States   \n",
       "15   6           Per Knut Aaland   M  33.0   188.0    75.0   United States   \n",
       "16   6           Per Knut Aaland   M  33.0   188.0    75.0   United States   \n",
       "17   6           Per Knut Aaland   M  33.0   188.0    75.0   United States   \n",
       "18   7              John Aalberg   M  31.0   183.0    72.0   United States   \n",
       "19   7              John Aalberg   M  31.0   183.0    72.0   United States   \n",
       "20   7              John Aalberg   M  31.0   183.0    72.0   United States   \n",
       "\n",
       "    NOC        Games  Year  Season         City                 Sport  \\\n",
       "0   CHN  1992 Summer  1992  Summer    Barcelona            Basketball   \n",
       "1   CHN  2012 Summer  2012  Summer       London                  Judo   \n",
       "2   DEN  1920 Summer  1920  Summer    Antwerpen              Football   \n",
       "3   DEN  1900 Summer  1900  Summer        Paris            Tug-Of-War   \n",
       "4   NED  1988 Winter  1988  Winter      Calgary         Speed Skating   \n",
       "5   NED  1988 Winter  1988  Winter      Calgary         Speed Skating   \n",
       "6   NED  1992 Winter  1992  Winter  Albertville         Speed Skating   \n",
       "7   NED  1992 Winter  1992  Winter  Albertville         Speed Skating   \n",
       "8   NED  1994 Winter  1994  Winter  Lillehammer         Speed Skating   \n",
       "9   NED  1994 Winter  1994  Winter  Lillehammer         Speed Skating   \n",
       "10  USA  1992 Winter  1992  Winter  Albertville  Cross Country Skiing   \n",
       "11  USA  1992 Winter  1992  Winter  Albertville  Cross Country Skiing   \n",
       "12  USA  1992 Winter  1992  Winter  Albertville  Cross Country Skiing   \n",
       "13  USA  1992 Winter  1992  Winter  Albertville  Cross Country Skiing   \n",
       "14  USA  1994 Winter  1994  Winter  Lillehammer  Cross Country Skiing   \n",
       "15  USA  1994 Winter  1994  Winter  Lillehammer  Cross Country Skiing   \n",
       "16  USA  1994 Winter  1994  Winter  Lillehammer  Cross Country Skiing   \n",
       "17  USA  1994 Winter  1994  Winter  Lillehammer  Cross Country Skiing   \n",
       "18  USA  1992 Winter  1992  Winter  Albertville  Cross Country Skiing   \n",
       "19  USA  1992 Winter  1992  Winter  Albertville  Cross Country Skiing   \n",
       "20  USA  1992 Winter  1992  Winter  Albertville  Cross Country Skiing   \n",
       "\n",
       "                                                Event Medal  \n",
       "0                         Basketball Men's Basketball   NaN  \n",
       "1                        Judo Men's Extra-Lightweight   NaN  \n",
       "2                             Football Men's Football   NaN  \n",
       "3                         Tug-Of-War Men's Tug-Of-War  Gold  \n",
       "4                    Speed Skating Women's 500 metres   NaN  \n",
       "5                  Speed Skating Women's 1,000 metres   NaN  \n",
       "6                    Speed Skating Women's 500 metres   NaN  \n",
       "7                  Speed Skating Women's 1,000 metres   NaN  \n",
       "8                    Speed Skating Women's 500 metres   NaN  \n",
       "9                  Speed Skating Women's 1,000 metres   NaN  \n",
       "10           Cross Country Skiing Men's 10 kilometres   NaN  \n",
       "11           Cross Country Skiing Men's 50 kilometres   NaN  \n",
       "12  Cross Country Skiing Men's 10/15 kilometres Pu...   NaN  \n",
       "13  Cross Country Skiing Men's 4 x 10 kilometres R...   NaN  \n",
       "14           Cross Country Skiing Men's 10 kilometres   NaN  \n",
       "15           Cross Country Skiing Men's 30 kilometres   NaN  \n",
       "16  Cross Country Skiing Men's 10/15 kilometres Pu...   NaN  \n",
       "17  Cross Country Skiing Men's 4 x 10 kilometres R...   NaN  \n",
       "18           Cross Country Skiing Men's 10 kilometres   NaN  \n",
       "19           Cross Country Skiing Men's 50 kilometres   NaN  \n",
       "20  Cross Country Skiing Men's 10/15 kilometres Pu...   NaN  "
      ]
     },
     "execution_count": 8,
     "metadata": {},
     "output_type": "execute_result"
    }
   ],
   "source": [
    "df.head(21)"
   ]
  },
  {
   "cell_type": "code",
   "execution_count": 9,
   "metadata": {},
   "outputs": [
    {
     "name": "stdout",
     "output_type": "stream",
     "text": [
      "    Age  Height  Weight        BMI Age_Category\n",
      "0  24.0   180.0    80.0  24.691358  Young Adult\n",
      "1  23.0   170.0    60.0  20.761246  Young Adult\n",
      "2  24.0   177.5    73.1  23.201746  Young Adult\n",
      "3  34.0   182.5    95.6  28.703321        Adult\n",
      "4  21.0   185.0    82.0  23.959094  Young Adult\n"
     ]
    }
   ],
   "source": [
    "# Calculating Body Mass Index (BMI)\n",
    "df['BMI'] = df['Weight'] / (df['Height'] / 100) ** 2\n",
    "age_bins = [0, 18, 25, 35, max(df['Age']) + 1]  # Use maximum age from data\n",
    "df['Age_Category'] = pd.cut(df['Age'], bins=age_bins, right=False, labels=['Junior', 'Young Adult', 'Adult', 'Midlife'])\n",
    "print(df[['Age', 'Height', 'Weight', 'BMI', 'Age_Category']].head())\n"
   ]
  },
  {
   "cell_type": "markdown",
   "metadata": {},
   "source": [
    "# A1: Athlete Demographics (High Importance)"
   ]
  },
  {
   "cell_type": "code",
   "execution_count": null,
   "metadata": {},
   "outputs": [],
   "source": [
    "\"\"\"1.\tDescriptive Statistics: Calculate statistics for Age, Height, Weight, and BMI across genders.\"\"\""
   ]
  },
  {
   "cell_type": "code",
   "execution_count": 11,
   "metadata": {},
   "outputs": [
    {
     "name": "stdout",
     "output_type": "stream",
     "text": [
      "          Age                                                       Height  \\\n",
      "        count       mean       std   min   25%   50%   75%   max     count   \n",
      "Sex                                                                          \n",
      "F     74522.0  23.749552  5.830052  11.0  20.0  23.0  27.0  74.0   74366.0   \n",
      "M    196452.0  26.340794  6.456246  10.0  22.0  25.0  29.0  97.0  194667.0   \n",
      "\n",
      "                 ... Weight              BMI                                  \\\n",
      "           mean  ...    75%    max     count       mean       std        min   \n",
      "Sex              ...                                                           \n",
      "F    167.703036  ...   65.0  167.0   74293.0  21.200296  2.379529  10.503834   \n",
      "M    178.360405  ...   82.0  214.0  191915.0  23.585913  2.655817   8.360954   \n",
      "\n",
      "                                                 \n",
      "           25%        50%        75%        max  \n",
      "Sex                                              \n",
      "F    19.721037  20.957274  22.321429  51.789235  \n",
      "M    22.129971  23.201746  24.691358  63.901580  \n",
      "\n",
      "[2 rows x 32 columns]\n",
      "Age outliers for Sex M:\n",
      "            ID                   Name Sex   Age  Height  Weight        Team  \\\n",
      "58          19  Win Valdemar Aaltonen   M  54.0   173.0    76.0     Finland   \n",
      "89          28       Jan-Erik Aarberg   M  43.0   170.0    77.0      Norway   \n",
      "90          28       Jan-Erik Aarberg   M  47.0   170.0    77.0      Norway   \n",
      "124         45            Hakon Aasns   M  41.0   176.1    76.0      Norway   \n",
      "126         46             Hans Aasns   M  45.0   194.0    93.0      Norway   \n",
      "...        ...                    ...  ..   ...     ...     ...         ...   \n",
      "270681  135370          Franco Zucchi   M  42.0   172.0    73.0  Voloira II   \n",
      "270687  135373   Giuseppe Zucchinetti   M  43.0   169.0    72.0       Italy   \n",
      "270752  135406          Bla Zulawszky   M  42.0   178.6    73.6     Hungary   \n",
      "270753  135406          Bla Zulawszky   M  42.0   179.3    75.8     Hungary   \n",
      "270955  135494           Jacek uawski   M  41.0     NaN    76.0      Poland   \n",
      "\n",
      "        NOC        Games  Year  Season         City             Sport  \\\n",
      "58      FIN  1948 Summer  1948  Summer       London  Art Competitions   \n",
      "89      NOR  1968 Summer  1968  Summer  Mexico City           Sailing   \n",
      "90      NOR  1972 Summer  1972  Summer       Munich           Sailing   \n",
      "124     NOR  1936 Summer  1936  Summer       Berlin          Shooting   \n",
      "126     NOR  1948 Summer  1948  Summer       London          Shooting   \n",
      "...     ...          ...   ...     ...          ...               ...   \n",
      "270681  ITA  1960 Summer  1960  Summer         Roma           Sailing   \n",
      "270687  ITA  1968 Summer  1968  Summer  Mexico City           Sailing   \n",
      "270752  HUN  1912 Summer  1912  Summer    Stockholm           Fencing   \n",
      "270753  HUN  1912 Summer  1912  Summer    Stockholm           Fencing   \n",
      "270955  POL  1948 Summer  1948  Summer       London  Art Competitions   \n",
      "\n",
      "                                                    Event Medal        BMI  \\\n",
      "58      Art Competitions Mixed Sculpturing, Unknown Event   NaN  25.393431   \n",
      "89                    Sailing Mixed Three Person Keelboat   NaN  26.643599   \n",
      "90                    Sailing Mixed Three Person Keelboat   NaN  26.643599   \n",
      "124     Shooting Men's Small-Bore Rifle, Prone, 50 metres   NaN  24.507267   \n",
      "126           Shooting Men's Rapid-Fire Pistol, 25 metres   NaN  24.710384   \n",
      "...                                                   ...   ...        ...   \n",
      "270681                           Sailing Mixed 5.5 metres   NaN  24.675500   \n",
      "270687                           Sailing Mixed 5.5 metres   NaN  25.209201   \n",
      "270752                     Fencing Men's Foil, Individual   NaN  23.073576   \n",
      "270753                    Fencing Men's Sabre, Individual   NaN  23.578090   \n",
      "270955        Art Competitions Mixed Sculpturing, Statues   NaN        NaN   \n",
      "\n",
      "       Age_Category  \n",
      "58          Midlife  \n",
      "89          Midlife  \n",
      "90          Midlife  \n",
      "124         Midlife  \n",
      "126         Midlife  \n",
      "...             ...  \n",
      "270681      Midlife  \n",
      "270687      Midlife  \n",
      "270752      Midlife  \n",
      "270753      Midlife  \n",
      "270955      Midlife  \n",
      "\n",
      "[8441 rows x 17 columns]\n",
      "Age outliers for Sex F:\n",
      "            ID                                       Name Sex   Age  Height  \\\n",
      "280        147                              Joanne Abbott   F  41.0   160.0   \n",
      "284        151        Mary Perkins Ives Abbott (Perkins-)   F  42.0   168.7   \n",
      "287        154                            Khadija Abbouda   F  40.0   165.0   \n",
      "735        422                  Julianne \"Anne\" Abernathy   F  38.0   165.0   \n",
      "736        422                  Julianne \"Anne\" Abernathy   F  40.0   165.0   \n",
      "...        ...                                        ...  ..   ...     ...   \n",
      "269999  135073         Doris Clare Zinkeisen (-Johnstone)   F  49.0   173.6   \n",
      "270194  135169                    Marina Nikolayevna Znak   F  39.0   180.0   \n",
      "270970  135501  Ellina Aleksandrovna Zvereva (Kisheyeva-)   F  39.0   183.0   \n",
      "270971  135501  Ellina Aleksandrovna Zvereva (Kisheyeva-)   F  43.0   183.0   \n",
      "270972  135501  Ellina Aleksandrovna Zvereva (Kisheyeva-)   F  47.0   183.0   \n",
      "\n",
      "        Weight                          Team  NOC        Games  Year  Season  \\\n",
      "280       57.0                        Canada  CAN  1996 Summer  1996  Summer   \n",
      "284       63.4                 United States  USA  1900 Summer  1900  Summer   \n",
      "287       57.0                       Morocco  MAR  2008 Summer  2008  Summer   \n",
      "735       75.0  United States Virgin Islands  ISV  1992 Winter  1992  Winter   \n",
      "736       75.0  United States Virgin Islands  ISV  1994 Winter  1994  Winter   \n",
      "...        ...                           ...  ...          ...   ...     ...   \n",
      "269999    72.0                 Great Britain  GBR  1948 Summer  1948  Summer   \n",
      "270194    75.0                       Belarus  BLR  2000 Summer  2000  Summer   \n",
      "270970   100.0                       Belarus  BLR  2000 Summer  2000  Summer   \n",
      "270971   100.0                       Belarus  BLR  2004 Summer  2004  Summer   \n",
      "270972   100.0                       Belarus  BLR  2008 Summer  2008  Summer   \n",
      "\n",
      "               City             Sport  \\\n",
      "280         Atlanta           Sailing   \n",
      "284           Paris              Golf   \n",
      "287         Beijing           Archery   \n",
      "735     Albertville              Luge   \n",
      "736     Lillehammer              Luge   \n",
      "...             ...               ...   \n",
      "269999       London  Art Competitions   \n",
      "270194       Sydney            Rowing   \n",
      "270970       Sydney         Athletics   \n",
      "270971       Athina         Athletics   \n",
      "270972      Beijing         Athletics   \n",
      "\n",
      "                                                 Event Medal        BMI  \\\n",
      "280                Sailing Mixed Three Person Keelboat   NaN  22.265625   \n",
      "284                            Golf Women's Individual   NaN  22.277122   \n",
      "287                         Archery Women's Individual   NaN  20.936639   \n",
      "735                               Luge Women's Singles   NaN  27.548209   \n",
      "736                               Luge Women's Singles   NaN  27.548209   \n",
      "...                                                ...   ...        ...   \n",
      "269999  Art Competitions Mixed Painting, Unknown Event   NaN  23.890930   \n",
      "270194                     Rowing Women's Coxed Eights   NaN  23.148148   \n",
      "270970                  Athletics Women's Discus Throw  Gold  29.860551   \n",
      "270971                  Athletics Women's Discus Throw   NaN  29.860551   \n",
      "270972                  Athletics Women's Discus Throw   NaN  29.860551   \n",
      "\n",
      "       Age_Category  \n",
      "280         Midlife  \n",
      "284         Midlife  \n",
      "287         Midlife  \n",
      "735         Midlife  \n",
      "736         Midlife  \n",
      "...             ...  \n",
      "269999      Midlife  \n",
      "270194      Midlife  \n",
      "270970      Midlife  \n",
      "270971      Midlife  \n",
      "270972      Midlife  \n",
      "\n",
      "[1545 rows x 17 columns]\n"
     ]
    }
   ],
   "source": [
    "print(df.groupby('Sex')[['Age', 'Height', 'Weight', 'BMI']].describe())\n",
    "def identify_outliers(group, column_name):\n",
    "  Q1 = group[column_name].quantile(0.25)\n",
    "  Q3 = group[column_name].quantile(0.75)\n",
    "  IQR = Q3 - Q1\n",
    "  return group[(group[column_name] < (Q1 - 1.5 * IQR)) | (group[column_name] > (Q3 + 1.5 * IQR))]\n",
    "\n",
    "for sex in df['Sex'].unique():\n",
    "  outliers = identify_outliers(df[df['Sex'] == sex], 'Age')\n",
    "  if not outliers.empty:\n",
    "    print(f\"Age outliers for Sex {sex}:\")\n",
    "    print(outliers)\n",
    "  outliers = identify_outliers(df[df['Sex'] == sex], 'Height')"
   ]
  },
  {
   "cell_type": "code",
   "execution_count": null,
   "metadata": {},
   "outputs": [],
   "source": [
    "\"\"\"2.\tVisualization: Create visualizations to show distributions of these demographics for each sex.\"\"\""
   ]
  },
  {
   "cell_type": "code",
   "execution_count": 20,
   "metadata": {},
   "outputs": [
    {
     "data": {
      "image/png": "[encoded data removed]",
      "text/plain": [
       "<Figure size 1440x1440 with 4 Axes>"
      ]
     },
     "metadata": {
      "needs_background": "light"
     },
     "output_type": "display_data"
    }
   ],
   "source": [
    "def calculate_bmi(height_cm, weight_kg):\n",
    "    if pd.isna(height_cm) or pd.isna(weight_kg):\n",
    "        return np.nan\n",
    "    else:\n",
    "        return weight_kg / (height_cm / 100) ** 2\n",
    "\n",
    "df['BMI'] = df.apply(lambda row: calculate_bmi(row['Height'], row['Weight']), axis=1)\n",
    "grouped_data = df.groupby('Sex')\n",
    "colors = {'M': 'skyblue', 'F': 'lightcoral'}\n",
    "fig, axes = plt.subplots(2, 2, figsize=(20, 20))\n",
    "axes_flat = axes.ravel()\n",
    "\n",
    "\n",
    "features = ['Age', 'Height', 'Weight', 'BMI']\n",
    "for idx, feature in enumerate(features):\n",
    "    for sex, data in grouped_data:\n",
    "        data[data['Sex'] == sex][feature].hist(bins=30, alpha=0.5, color=colors[sex], label=sex, ax=axes_flat[idx])\n",
    "    axes_flat[idx].set_title(feature)\n",
    "    axes_flat[idx].legend()\n",
    "\n",
    "fig.suptitle('Distribution of Athlete Demographics by Sex', fontsize=14)\n",
    "plt.tight_layout()\n",
    "plt.show()"
   ]
  },
  {
   "cell_type": "code",
   "execution_count": null,
   "metadata": {},
   "outputs": [],
   "source": [
    "\"\"\"3.\tComparison: Compare demographics across teams, sports, NOCs, and medal winners vs. non-winners.\"\"\""
   ]
  },
  {
   "cell_type": "code",
   "execution_count": 26,
   "metadata": {},
   "outputs": [],
   "source": [
    "# a function to label medal winners and non-winners\n",
    "df_clean = df.dropna(subset=['Age', 'Height', 'Weight'])\n",
    "def label_medal(row):\n",
    "    if row['Medal'] == 'NA':\n",
    "        return 'Non-Winner'\n",
    "    else:\n",
    "        return 'Winner'"
   ]
  },
  {
   "cell_type": "code",
   "execution_count": 28,
   "metadata": {},
   "outputs": [
    {
     "name": "stderr",
     "output_type": "stream",
     "text": [
      "C:\\Users\\Wajith Ali\\AppData\\Local\\Temp\\ipykernel_19664\\662649830.py:1: SettingWithCopyWarning: \n",
      "A value is trying to be set on a copy of a slice from a DataFrame.\n",
      "Try using .loc[row_indexer,col_indexer] = value instead\n",
      "\n",
      "See the caveats in the documentation: https://pandas.pydata.org/pandas-docs/stable/user_guide/indexing.html#returning-a-view-versus-a-copy\n",
      "  df_clean['Medal_Status'] = df_clean.apply(label_medal, axis=1)\n"
     ]
    },
    {
     "data": {
      "image/png": "[encoded data removed]",
      "text/plain": [
       "<Figure size 1440x1440 with 4 Axes>"
      ]
     },
     "metadata": {
      "needs_background": "light"
     },
     "output_type": "display_data"
    }
   ],
   "source": [
    "\n",
    "df_clean['Medal_Status'] = df_clean.apply(label_medal, axis=1)\n",
    "fig, axes = plt.subplots(2, 2, figsize=(20, 20))\n",
    "teams_to_plot = df_clean['Team'].value_counts().nlargest(10).index\n",
    "sns.boxplot(data=df_clean[df_clean['Team'].isin(teams_to_plot)], x='Team', y='Age', ax=axes[0, 0])\n",
    "axes[0, 0].set_title('Age Distribution across Top 10 Teams')\n",
    "axes[0, 0].tick_params(axis='x', rotation=90)\n",
    "\n",
    "sports_to_plot = df_clean['Sport'].value_counts().nlargest(10).index\n",
    "sns.violinplot(data=df_clean[df_clean['Sport'].isin(sports_to_plot)], x='Sport', y='Height', ax=axes[0, 1])\n",
    "axes[0, 1].set_title('Height Distribution across Top 10 Sports')\n",
    "axes[0, 1].tick_params(axis='x', rotation=90)\n",
    "\n",
    "nocs_to_plot = df_clean['NOC'].value_counts().nlargest(10).index \n",
    "nocs_weight_mean = df_clean[df_clean['NOC'].isin(nocs_to_plot)].groupby('NOC')['Weight'].mean().reset_index()\n",
    "sns.barplot(data=nocs_weight_mean, x='NOC', y='Weight', ax=axes[1, 0])\n",
    "axes[1, 0].set_title('Mean Weight across Top 10 NOCs')\n",
    "axes[1, 0].tick_params(axis='x', rotation=90)\n",
    "axes[1, 0].set_ylim(50, None)  \n",
    "\n",
    "# Comparison between medal winners and non-winners\n",
    "sns.boxplot(data=df_clean, x='Medal_Status', y='BMI', ax=axes[1, 1])\n",
    "axes[1, 1].set_title('BMI Distribution between Medal Winners and Non-Winners')\n",
    "plt.tight_layout()\n",
    "plt.show()"
   ]
  },
  {
   "cell_type": "code",
   "execution_count": null,
   "metadata": {},
   "outputs": [],
   "source": [
    "\"\"\"4.\tCorrelation Analysis: Analyze correlations between demographics and medal success.\"\"\""
   ]
  },
  {
   "cell_type": "code",
   "execution_count": 29,
   "metadata": {},
   "outputs": [
    {
     "name": "stdout",
     "output_type": "stream",
     "text": [
      "             Age    Height    Weight       BMI\n",
      "Age     1.000000  0.103596  0.203250  0.236404\n",
      "Height  0.103596  1.000000  0.794291  0.334758\n",
      "Weight  0.203250  0.794291  1.000000  0.831862\n",
      "BMI     0.236404  0.334758  0.831862  1.000000\n"
     ]
    },
    {
     "name": "stderr",
     "output_type": "stream",
     "text": [
      "C:\\Users\\Wajith Ali\\AppData\\Local\\Temp\\ipykernel_19664\\3192614381.py:7: FutureWarning: The default value of numeric_only in DataFrame.corr is deprecated. In a future version, it will default to False. Select only valid columns or specify the value of numeric_only to silence this warning.\n",
      "  correlation_matrix = df[['Age', 'Height', 'Weight', 'BMI', 'Medal']].corr()\n"
     ]
    }
   ],
   "source": [
    "df['BMI'] = df.apply(lambda row: calculate_bmi(row['Height'], row['Weight']), axis=1)\n",
    "\n",
    "# Correlation matrix for demographics and medal success\n",
    "correlation_matrix = df[['Age', 'Height', 'Weight', 'BMI', 'Medal']].corr()\n",
    "print(correlation_matrix)"
   ]
  },
  {
   "cell_type": "code",
   "execution_count": 32,
   "metadata": {},
   "outputs": [
    {
     "data": {
      "image/png": "[encoded data removed]",
      "text/plain": [
       "<Figure size 864x576 with 2 Axes>"
      ]
     },
     "metadata": {
      "needs_background": "light"
     },
     "output_type": "display_data"
    }
   ],
   "source": [
    "plt.figure(figsize=(12, 8))\n",
    "sns.heatmap(correlation_matrix, annot=True, cmap='YlGnBu', fmt=\".2f\", linewidths=.5)\n",
    "plt.title('Correlation Matrix of Demographics and Medal Success')\n",
    "plt.show()"
   ]
  },
  {
   "cell_type": "markdown",
   "metadata": {},
   "source": [
    "# A2: Sports and Events (High Importance)"
   ]
  },
  {
   "cell_type": "code",
   "execution_count": 34,
   "metadata": {},
   "outputs": [
    {
     "name": "stdout",
     "output_type": "stream",
     "text": [
      "Most Popular Sport:\n",
      "Athletics               38624\n",
      "Gymnastics              26707\n",
      "Swimming                23195\n",
      "Shooting                11448\n",
      "Cycling                 10859\n",
      "Fencing                 10735\n",
      "Rowing                  10595\n",
      "Cross Country Skiing     9133\n",
      "Alpine Skiing            8829\n",
      "Wrestling                7154\n",
      "Name: Sport, dtype: int64\n",
      "\n",
      "Most Frequent Events:\n",
      "Football Men's Football                   5733\n",
      "Ice Hockey Men's Ice Hockey               4762\n",
      "Hockey Men's Hockey                       3958\n",
      "Water Polo Men's Water Polo               3358\n",
      "Basketball Men's Basketball               3280\n",
      "Cycling Men's Road Race, Individual       2947\n",
      "Gymnastics Men's Individual All-Around    2500\n",
      "Rowing Men's Coxed Eights                 2423\n",
      "Gymnastics Men's Team All-Around          2411\n",
      "Handball Men's Handball                   2264\n",
      "Name: Event, dtype: int64\n"
     ]
    }
   ],
   "source": [
    "sports_counts = df['Sport'].value_counts()\n",
    "events_counts = df['Event'].value_counts()\n",
    "\n",
    "print(\"Most Popular Sport:\")\n",
    "print(sports_counts.nlargest(10))\n",
    "\n",
    "print(\"\\nMost Frequent Events:\")\n",
    "print(events_counts.nlargest(10)) "
   ]
  },
  {
   "cell_type": "code",
   "execution_count": 37,
   "metadata": {},
   "outputs": [
    {
     "data": {
      "image/png": "[encoded data removed]",
      "text/plain": [
       "<Figure size 720x432 with 1 Axes>"
      ]
     },
     "metadata": {
      "needs_background": "light"
     },
     "output_type": "display_data"
    },
    {
     "data": {
      "image/png": "[encoded data removed]",
      "text/plain": [
       "<Figure size 864x432 with 1 Axes>"
      ]
     },
     "metadata": {
      "needs_background": "light"
     },
     "output_type": "display_data"
    }
   ],
   "source": [
    "plt.figure(figsize=(10, 6))\n",
    "sports_counts.nlargest(10).plot(kind='bar', color='skyblue')\n",
    "plt.title('Most Popular Sports')\n",
    "plt.xlabel('Sport')\n",
    "plt.ylabel('Frequency')\n",
    "plt.xticks(rotation=45)\n",
    "plt.tight_layout()\n",
    "plt.show()\n",
    "\n",
    "plt.figure(figsize=(12, 6))\n",
    "events_counts.nlargest(10).plot(kind='bar', color='lightcoral')\n",
    "plt.title('Most Frequent Events')\n",
    "plt.xlabel('Event')\n",
    "plt.ylabel('Frequency')\n",
    "plt.xticks(rotation=45)\n",
    "plt.tight_layout()\n",
    "plt.show()"
   ]
  },
  {
   "cell_type": "code",
   "execution_count": 44,
   "metadata": {},
   "outputs": [
    {
     "name": "stdout",
     "output_type": "stream",
     "text": [
      "Multisport Athletes and Their Respective Events:\n",
      "            ID                                 Event\n",
      "347        193           Water Polo Men's Water Polo\n",
      "348        193   Swimming Men's 100 metres Freestyle\n",
      "349        193  Swimming Men's 100 metres Backstroke\n",
      "1351       766    Modern Pentathlon Men's Individual\n",
      "1352       766          Modern Pentathlon Men's Team\n",
      "...        ...                                   ...\n",
      "270217  135182        Fencing Men's epee, Individual\n",
      "270218  135182              Fencing Men's epee, Team\n",
      "270602  135343                    Luge Men's Singles\n",
      "270603  135343                   Bobsleigh Men's Two\n",
      "270604  135343                  Bobsleigh Men's Four\n",
      "\n",
      "[3278 rows x 2 columns]\n"
     ]
    }
   ],
   "source": [
    "def identify_multisport_athletes(data):\n",
    "    multisport_athletes = data.groupby('ID')['Sport'].nunique()\n",
    "    return multisport_athletes[multisport_athletes > 1] \n",
    "\n",
    "multisport_df = identify_multisport_athletes(df.copy())\n",
    "\n",
    "multisport_events = df[df['ID'].isin(multisport_df.index)][['ID', 'Event']].drop_duplicates()\n",
    "\n",
    "print(\"Multisport Athletes and Their Respective Events:\")\n",
    "print(multisport_events)\n"
   ]
  },
  {
   "cell_type": "code",
   "execution_count": 128,
   "metadata": {},
   "outputs": [
    {
     "name": "stdout",
     "output_type": "stream",
     "text": [
      "Multisport events printed to 'multisport_events.pdf' successfully.\n"
     ]
    }
   ],
   "source": [
    "def print_multisport_events_to_pdf(df, output_file):\n",
    "    multisport_df = identify_multisport_athletes(df.copy())\n",
    "    \n",
    "    multisport_events = df[df['ID'].isin(multisport_df.index)].groupby(['NOC', 'ID'])['Event'].apply(', '.join).reset_index()\n",
    "    \n",
    "    with PdfPages(output_file) as pdf:\n",
    "        num_pages = len(multisport_events) // 10 + 1\n",
    "        \n",
    "        for page_num in range(num_pages):\n",
    "            start_idx = page_num * 10\n",
    "            end_idx = min((page_num + 1) * 10, len(multisport_events))\n",
    "            events_subset = multisport_events.iloc[start_idx:end_idx]\n",
    "            \n",
    "            fig, ax = plt.subplots(figsize=(8, 6))\n",
    "        \n",
    "            ax.axis('off')\n",
    "            ax.text(0.5, 1.05, f\"NOC: {events_subset['NOC'].iloc[0]}\", horizontalalignment='center', verticalalignment='center', transform=ax.transAxes, fontsize=14)\n",
    "\n",
    "            table = ax.table(cellText=events_subset[['ID', 'Event']].values, colLabels=['ID', 'Event'], loc='center', fontsize=12)\n",
    "            table.auto_set_font_size(False)\n",
    "            table.set_fontsize(12)\n",
    "            table.scale(1, 2) \n",
    "            \n",
    "            for (i, j), cell in table.get_celld().items():\n",
    "                if i > 0 and j == 1:\n",
    "                    cell.set_text_props(wrap=True)\n",
    "            pdf.savefig(fig)\n",
    "            plt.close()\n",
    "output_file = 'multisport_events.pdf'\n",
    "print_multisport_events_to_pdf(df, output_file)\n",
    "print(f\"Multisport events printed to '{output_file}' successfully.\")"
   ]
  },
  {
   "cell_type": "code",
   "execution_count": 64,
   "metadata": {},
   "outputs": [
    {
     "name": "stdout",
     "output_type": "stream",
     "text": [
      "\n",
      "Medal Distribution for Basketball by Events:\n",
      "Basketball Men's Basketball      687\n",
      "Basketball Women's Basketball    393\n",
      "Name: Event, dtype: int64\n"
     ]
    },
    {
     "data": {
      "application/vnd.plotly.v1+json": {
       "config": {
        "plotlyServerURL": "https://plot.ly"
       },
       "data": [
        {
         "marker": {
          "color": "blue"
         },
         "text": [
          "Basketball Men's Basketball",
          "Basketball Women's Basketball"
         ],
         "type": "bar",
         "x": [
          "Basketball Men's Basketball",
          "Basketball Women's Basketball"
         ],
         "y": [
          687,
          393
         ]
        }
       ],
       "layout": {
        "margin": {
         "b": 0,
         "l": 0,
         "r": 0,
         "t": 30
        },
        "scene": {
         "xaxis": {
          "title": {
           "text": "Event"
          }
         },
         "yaxis": {
          "title": {
           "text": "Count"
          }
         },
         "zaxis": {
          "title": {
           "text": ""
          }
         }
        },
        "template": {
         "data": {
          "bar": [
           {
            "error_x": {
             "color": "#2a3f5f"
            },
            "error_y": {
             "color": "#2a3f5f"
            },
            "marker": {
             "line": {
              "color": "#E5ECF6",
              "width": 0.5
             },
             "pattern": {
              "fillmode": "overlay",
              "size": 10,
              "solidity": 0.2
             }
            },
            "type": "bar"
           }
          ],
          "barpolar": [
           {
            "marker": {
             "line": {
              "color": "#E5ECF6",
              "width": 0.5
             },
             "pattern": {
              "fillmode": "overlay",
              "size": 10,
              "solidity": 0.2
             }
            },
            "type": "barpolar"
           }
          ],
          "carpet": [
           {
            "aaxis": {
             "endlinecolor": "#2a3f5f",
             "gridcolor": "white",
             "linecolor": "white",
             "minorgridcolor": "white",
             "startlinecolor": "#2a3f5f"
            },
            "baxis": {
             "endlinecolor": "#2a3f5f",
             "gridcolor": "white",
             "linecolor": "white",
             "minorgridcolor": "white",
             "startlinecolor": "#2a3f5f"
            },
            "type": "carpet"
           }
          ],
          "choropleth": [
           {
            "colorbar": {
             "outlinewidth": 0,
             "ticks": ""
            },
            "type": "choropleth"
           }
          ],
          "contour": [
           {
            "colorbar": {
             "outlinewidth": 0,
             "ticks": ""
            },
            "colorscale": [
             [
              0,
              "#0d0887"
             ],
             [
              0.1111111111111111,
              "#46039f"
             ],
             [
              0.2222222222222222,
              "#7201a8"
             ],
             [
              0.3333333333333333,
              "#9c179e"
             ],
             [
              0.4444444444444444,
              "#bd3786"
             ],
             [
              0.5555555555555556,
              "#d8576b"
             ],
             [
              0.6666666666666666,
              "#ed7953"
             ],
             [
              0.7777777777777778,
              "#fb9f3a"
             ],
             [
              0.8888888888888888,
              "#fdca26"
             ],
             [
              1,
              "#f0f921"
             ]
            ],
            "type": "contour"
           }
          ],
          "contourcarpet": [
           {
            "colorbar": {
             "outlinewidth": 0,
             "ticks": ""
            },
            "type": "contourcarpet"
           }
          ],
          "heatmap": [
           {
            "colorbar": {
             "outlinewidth": 0,
             "ticks": ""
            },
            "colorscale": [
             [
              0,
              "#0d0887"
             ],
             [
              0.1111111111111111,
              "#46039f"
             ],
             [
              0.2222222222222222,
              "#7201a8"
             ],
             [
              0.3333333333333333,
              "#9c179e"
             ],
             [
              0.4444444444444444,
              "#bd3786"
             ],
             [
              0.5555555555555556,
              "#d8576b"
             ],
             [
              0.6666666666666666,
              "#ed7953"
             ],
             [
              0.7777777777777778,
              "#fb9f3a"
             ],
             [
              0.8888888888888888,
              "#fdca26"
             ],
             [
              1,
              "#f0f921"
             ]
            ],
            "type": "heatmap"
           }
          ],
          "heatmapgl": [
           {
            "colorbar": {
             "outlinewidth": 0,
             "ticks": ""
            },
            "colorscale": [
             [
              0,
              "#0d0887"
             ],
             [
              0.1111111111111111,
              "#46039f"
             ],
             [
              0.2222222222222222,
              "#7201a8"
             ],
             [
              0.3333333333333333,
              "#9c179e"
             ],
             [
              0.4444444444444444,
              "#bd3786"
             ],
             [
              0.5555555555555556,
              "#d8576b"
             ],
             [
              0.6666666666666666,
              "#ed7953"
             ],
             [
              0.7777777777777778,
              "#fb9f3a"
             ],
             [
              0.8888888888888888,
              "#fdca26"
             ],
             [
              1,
              "#f0f921"
             ]
            ],
            "type": "heatmapgl"
           }
          ],
          "histogram": [
           {
            "marker": {
             "pattern": {
              "fillmode": "overlay",
              "size": 10,
              "solidity": 0.2
             }
            },
            "type": "histogram"
           }
          ],
          "histogram2d": [
           {
            "colorbar": {
             "outlinewidth": 0,
             "ticks": ""
            },
            "colorscale": [
             [
              0,
              "#0d0887"
             ],
             [
              0.1111111111111111,
              "#46039f"
             ],
             [
              0.2222222222222222,
              "#7201a8"
             ],
             [
              0.3333333333333333,
              "#9c179e"
             ],
             [
              0.4444444444444444,
              "#bd3786"
             ],
             [
              0.5555555555555556,
              "#d8576b"
             ],
             [
              0.6666666666666666,
              "#ed7953"
             ],
             [
              0.7777777777777778,
              "#fb9f3a"
             ],
             [
              0.8888888888888888,
              "#fdca26"
             ],
             [
              1,
              "#f0f921"
             ]
            ],
            "type": "histogram2d"
           }
          ],
          "histogram2dcontour": [
           {
            "colorbar": {
             "outlinewidth": 0,
             "ticks": ""
            },
            "colorscale": [
             [
              0,
              "#0d0887"
             ],
             [
              0.1111111111111111,
              "#46039f"
             ],
             [
              0.2222222222222222,
              "#7201a8"
             ],
             [
              0.3333333333333333,
              "#9c179e"
             ],
             [
              0.4444444444444444,
              "#bd3786"
             ],
             [
              0.5555555555555556,
              "#d8576b"
             ],
             [
              0.6666666666666666,
              "#ed7953"
             ],
             [
              0.7777777777777778,
              "#fb9f3a"
             ],
             [
              0.8888888888888888,
              "#fdca26"
             ],
             [
              1,
              "#f0f921"
             ]
            ],
            "type": "histogram2dcontour"
           }
          ],
          "mesh3d": [
           {
            "colorbar": {
             "outlinewidth": 0,
             "ticks": ""
            },
            "type": "mesh3d"
           }
          ],
          "parcoords": [
           {
            "line": {
             "colorbar": {
              "outlinewidth": 0,
              "ticks": ""
             }
            },
            "type": "parcoords"
           }
          ],
          "pie": [
           {
            "automargin": true,
            "type": "pie"
           }
          ],
          "scatter": [
           {
            "fillpattern": {
             "fillmode": "overlay",
             "size": 10,
             "solidity": 0.2
            },
            "type": "scatter"
           }
          ],
          "scatter3d": [
           {
            "line": {
             "colorbar": {
              "outlinewidth": 0,
              "ticks": ""
             }
            },
            "marker": {
             "colorbar": {
              "outlinewidth": 0,
              "ticks": ""
             }
            },
            "type": "scatter3d"
           }
          ],
          "scattercarpet": [
           {
            "marker": {
             "colorbar": {
              "outlinewidth": 0,
              "ticks": ""
             }
            },
            "type": "scattercarpet"
           }
          ],
          "scattergeo": [
           {
            "marker": {
             "colorbar": {
              "outlinewidth": 0,
              "ticks": ""
             }
            },
            "type": "scattergeo"
           }
          ],
          "scattergl": [
           {
            "marker": {
             "colorbar": {
              "outlinewidth": 0,
              "ticks": ""
             }
            },
            "type": "scattergl"
           }
          ],
          "scattermapbox": [
           {
            "marker": {
             "colorbar": {
              "outlinewidth": 0,
              "ticks": ""
             }
            },
            "type": "scattermapbox"
           }
          ],
          "scatterpolar": [
           {
            "marker": {
             "colorbar": {
              "outlinewidth": 0,
              "ticks": ""
             }
            },
            "type": "scatterpolar"
           }
          ],
          "scatterpolargl": [
           {
            "marker": {
             "colorbar": {
              "outlinewidth": 0,
              "ticks": ""
             }
            },
            "type": "scatterpolargl"
           }
          ],
          "scatterternary": [
           {
            "marker": {
             "colorbar": {
              "outlinewidth": 0,
              "ticks": ""
             }
            },
            "type": "scatterternary"
           }
          ],
          "surface": [
           {
            "colorbar": {
             "outlinewidth": 0,
             "ticks": ""
            },
            "colorscale": [
             [
              0,
              "#0d0887"
             ],
             [
              0.1111111111111111,
              "#46039f"
             ],
             [
              0.2222222222222222,
              "#7201a8"
             ],
             [
              0.3333333333333333,
              "#9c179e"
             ],
             [
              0.4444444444444444,
              "#bd3786"
             ],
             [
              0.5555555555555556,
              "#d8576b"
             ],
             [
              0.6666666666666666,
              "#ed7953"
             ],
             [
              0.7777777777777778,
              "#fb9f3a"
             ],
             [
              0.8888888888888888,
              "#fdca26"
             ],
             [
              1,
              "#f0f921"
             ]
            ],
            "type": "surface"
           }
          ],
          "table": [
           {
            "cells": {
             "fill": {
              "color": "#EBF0F8"
             },
             "line": {
              "color": "white"
             }
            },
            "header": {
             "fill": {
              "color": "#C8D4E3"
             },
             "line": {
              "color": "white"
             }
            },
            "type": "table"
           }
          ]
         },
         "layout": {
          "annotationdefaults": {
           "arrowcolor": "#2a3f5f",
           "arrowhead": 0,
           "arrowwidth": 1
          },
          "autotypenumbers": "strict",
          "coloraxis": {
           "colorbar": {
            "outlinewidth": 0,
            "ticks": ""
           }
          },
          "colorscale": {
           "diverging": [
            [
             0,
             "#8e0152"
            ],
            [
             0.1,
             "#c51b7d"
            ],
            [
             0.2,
             "#de77ae"
            ],
            [
             0.3,
             "#f1b6da"
            ],
            [
             0.4,
             "#fde0ef"
            ],
            [
             0.5,
             "#f7f7f7"
            ],
            [
             0.6,
             "#e6f5d0"
            ],
            [
             0.7,
             "#b8e186"
            ],
            [
             0.8,
             "#7fbc41"
            ],
            [
             0.9,
             "#4d9221"
            ],
            [
             1,
             "#276419"
            ]
           ],
           "sequential": [
            [
             0,
             "#0d0887"
            ],
            [
             0.1111111111111111,
             "#46039f"
            ],
            [
             0.2222222222222222,
             "#7201a8"
            ],
            [
             0.3333333333333333,
             "#9c179e"
            ],
            [
             0.4444444444444444,
             "#bd3786"
            ],
            [
             0.5555555555555556,
             "#d8576b"
            ],
            [
             0.6666666666666666,
             "#ed7953"
            ],
            [
             0.7777777777777778,
             "#fb9f3a"
            ],
            [
             0.8888888888888888,
             "#fdca26"
            ],
            [
             1,
             "#f0f921"
            ]
           ],
           "sequentialminus": [
            [
             0,
             "#0d0887"
            ],
            [
             0.1111111111111111,
             "#46039f"
            ],
            [
             0.2222222222222222,
             "#7201a8"
            ],
            [
             0.3333333333333333,
             "#9c179e"
            ],
            [
             0.4444444444444444,
             "#bd3786"
            ],
            [
             0.5555555555555556,
             "#d8576b"
            ],
            [
             0.6666666666666666,
             "#ed7953"
            ],
            [
             0.7777777777777778,
             "#fb9f3a"
            ],
            [
             0.8888888888888888,
             "#fdca26"
            ],
            [
             1,
             "#f0f921"
            ]
           ]
          },
          "colorway": [
           "#636efa",
           "#EF553B",
           "#00cc96",
           "#ab63fa",
           "#FFA15A",
           "#19d3f3",
           "#FF6692",
           "#B6E880",
           "#FF97FF",
           "#FECB52"
          ],
          "font": {
           "color": "#2a3f5f"
          },
          "geo": {
           "bgcolor": "white",
           "lakecolor": "white",
           "landcolor": "#E5ECF6",
           "showlakes": true,
           "showland": true,
           "subunitcolor": "white"
          },
          "hoverlabel": {
           "align": "left"
          },
          "hovermode": "closest",
          "mapbox": {
           "style": "light"
          },
          "paper_bgcolor": "white",
          "plot_bgcolor": "#E5ECF6",
          "polar": {
           "angularaxis": {
            "gridcolor": "white",
            "linecolor": "white",
            "ticks": ""
           },
           "bgcolor": "#E5ECF6",
           "radialaxis": {
            "gridcolor": "white",
            "linecolor": "white",
            "ticks": ""
           }
          },
          "scene": {
           "xaxis": {
            "backgroundcolor": "#E5ECF6",
            "gridcolor": "white",
            "gridwidth": 2,
            "linecolor": "white",
            "showbackground": true,
            "ticks": "",
            "zerolinecolor": "white"
           },
           "yaxis": {
            "backgroundcolor": "#E5ECF6",
            "gridcolor": "white",
            "gridwidth": 2,
            "linecolor": "white",
            "showbackground": true,
            "ticks": "",
            "zerolinecolor": "white"
           },
           "zaxis": {
            "backgroundcolor": "#E5ECF6",
            "gridcolor": "white",
            "gridwidth": 2,
            "linecolor": "white",
            "showbackground": true,
            "ticks": "",
            "zerolinecolor": "white"
           }
          },
          "shapedefaults": {
           "line": {
            "color": "#2a3f5f"
           }
          },
          "ternary": {
           "aaxis": {
            "gridcolor": "white",
            "linecolor": "white",
            "ticks": ""
           },
           "baxis": {
            "gridcolor": "white",
            "linecolor": "white",
            "ticks": ""
           },
           "bgcolor": "#E5ECF6",
           "caxis": {
            "gridcolor": "white",
            "linecolor": "white",
            "ticks": ""
           }
          },
          "title": {
           "x": 0.05
          },
          "xaxis": {
           "automargin": true,
           "gridcolor": "white",
           "linecolor": "white",
           "ticks": "",
           "title": {
            "standoff": 15
           },
           "zerolinecolor": "white",
           "zerolinewidth": 2
          },
          "yaxis": {
           "automargin": true,
           "gridcolor": "white",
           "linecolor": "white",
           "ticks": "",
           "title": {
            "standoff": 15
           },
           "zerolinecolor": "white",
           "zerolinewidth": 2
          }
         }
        },
        "title": {
         "text": "Medal Distribution for Basketball by Events"
        },
        "xaxis": {
         "title": {
          "text": "Event"
         }
        },
        "yaxis": {
         "title": {
          "text": "Count"
         }
        }
       }
      }
     },
     "metadata": {},
     "output_type": "display_data"
    }
   ],
   "source": [
    "if 'Medal' in df.columns and not df['Medal'].isnull().all():\n",
    "    sport_input = input(\"Enter the name of the sport to analyze medal distribution: \")\n",
    "    sport_df = df[df['Sport'] == sport_input]\n",
    "    if not sport_df.empty:\n",
    "        medal_counts_by_event = sport_df[sport_df['Medal'].notnull()]['Event'].value_counts()\n",
    "        if not medal_counts_by_event.empty:\n",
    "            print(f\"\\nMedal Distribution for {sport_input} by Events:\")\n",
    "            print(medal_counts_by_event.sort_values(ascending=False)) \n",
    "            fig = go.Figure(data=[go.Bar(x=medal_counts_by_event.index, y=medal_counts_by_event.values,\n",
    "                                         text=medal_counts_by_event.index, marker=dict(color='blue'))])\n",
    "            fig.update_layout(title=f'Medal Distribution for {sport_input} by Events',\n",
    "                              xaxis=dict(title='Event'), yaxis=dict(title='Count'),\n",
    "                              scene=dict(xaxis_title='Event', yaxis_title='Count', zaxis_title=''),\n",
    "                              margin=dict(l=0, r=0, t=30, b=0))\n",
    "            fig.show()\n",
    "        else:\n",
    "            print(f\"No medals recorded for events in {sport_input}.\")\n",
    "    else:\n",
    "        print(f\"No data available for the specified sport: {sport_input}.\")\n",
    "else:\n",
    "    print(\"No medals recorded in the dataset.\")"
   ]
  },
  {
   "cell_type": "code",
   "execution_count": 10,
   "metadata": {},
   "outputs": [
    {
     "name": "stdout",
     "output_type": "stream",
     "text": [
      "Top 5 Central Sports:\n",
      "['Athletics', 'Swimming', 'Rowing', 'Football', 'Cycling']\n",
      "\n",
      "Top 5 Central Events:\n",
      "['Athletics', 'Swimming', 'Rowing', 'Football', 'Cycling']\n"
     ]
    },
    {
     "ename": "KeyboardInterrupt",
     "evalue": "",
     "output_type": "error",
     "traceback": [
      "\u001b[1;31m---------------------------------------------------------------------------\u001b[0m",
      "\u001b[1;31mKeyboardInterrupt\u001b[0m                         Traceback (most recent call last)",
      "Input \u001b[1;32mIn [10]\u001b[0m, in \u001b[0;36m<cell line: 32>\u001b[1;34m()\u001b[0m\n\u001b[0;32m     30\u001b[0m \u001b[38;5;66;03m# Draw the network graph\u001b[39;00m\n\u001b[0;32m     31\u001b[0m plt\u001b[38;5;241m.\u001b[39mfigure(figsize\u001b[38;5;241m=\u001b[39m(\u001b[38;5;241m10\u001b[39m, \u001b[38;5;241m8\u001b[39m))\n\u001b[1;32m---> 32\u001b[0m pos \u001b[38;5;241m=\u001b[39m \u001b[43mnx\u001b[49m\u001b[38;5;241;43m.\u001b[39;49m\u001b[43mspring_layout\u001b[49m\u001b[43m(\u001b[49m\u001b[43mG\u001b[49m\u001b[43m)\u001b[49m  \u001b[38;5;66;03m# Position nodes using Fruchterman-Reingold force-directed algorithm\u001b[39;00m\n\u001b[0;32m     33\u001b[0m nx\u001b[38;5;241m.\u001b[39mdraw_networkx(G, pos, with_labels\u001b[38;5;241m=\u001b[39m\u001b[38;5;28;01mTrue\u001b[39;00m, node_size\u001b[38;5;241m=\u001b[39m\u001b[38;5;241m100\u001b[39m, font_size\u001b[38;5;241m=\u001b[39m\u001b[38;5;241m8\u001b[39m)\n\u001b[0;32m     34\u001b[0m plt\u001b[38;5;241m.\u001b[39mtitle(\u001b[38;5;124m'\u001b[39m\u001b[38;5;124mNetwork Analysis of Athlete Co-occurrence in Sports and Events\u001b[39m\u001b[38;5;124m'\u001b[39m)\n",
      "File \u001b[1;32mc:\\Users\\Wajith Ali\\AppData\\Local\\Programs\\Python\\Python310\\lib\\site-packages\\networkx\\utils\\decorators.py:770\u001b[0m, in \u001b[0;36margmap.__call__.<locals>.func\u001b[1;34m(_argmap__wrapper, *args, **kwargs)\u001b[0m\n\u001b[0;32m    769\u001b[0m \u001b[38;5;28;01mdef\u001b[39;00m \u001b[38;5;21mfunc\u001b[39m(\u001b[38;5;241m*\u001b[39margs, __wrapper\u001b[38;5;241m=\u001b[39m\u001b[38;5;28;01mNone\u001b[39;00m, \u001b[38;5;241m*\u001b[39m\u001b[38;5;241m*\u001b[39mkwargs):\n\u001b[1;32m--> 770\u001b[0m     \u001b[38;5;28;01mreturn\u001b[39;00m argmap\u001b[38;5;241m.\u001b[39m_lazy_compile(__wrapper)(\u001b[38;5;241m*\u001b[39margs, \u001b[38;5;241m*\u001b[39m\u001b[38;5;241m*\u001b[39mkwargs)\n",
      "File \u001b[1;32m<class 'networkx.utils.decorators.argmap'> compilation 4:4\u001b[0m, in \u001b[0;36margmap_spring_layout_1\u001b[1;34m(G, k, pos, fixed, iterations, threshold, weight, scale, center, dim, seed)\u001b[0m\n\u001b[0;32m      2\u001b[0m \u001b[38;5;28;01mimport\u001b[39;00m \u001b[38;5;21;01mcollections\u001b[39;00m\n\u001b[0;32m      3\u001b[0m \u001b[38;5;28;01mimport\u001b[39;00m \u001b[38;5;21;01mgzip\u001b[39;00m\n\u001b[1;32m----> 4\u001b[0m \u001b[38;5;28;01mimport\u001b[39;00m \u001b[38;5;21;01minspect\u001b[39;00m\n\u001b[0;32m      5\u001b[0m \u001b[38;5;28;01mimport\u001b[39;00m \u001b[38;5;21;01mitertools\u001b[39;00m\n\u001b[0;32m      6\u001b[0m \u001b[38;5;28;01mimport\u001b[39;00m \u001b[38;5;21;01mre\u001b[39;00m\n",
      "File \u001b[1;32mc:\\Users\\Wajith Ali\\AppData\\Local\\Programs\\Python\\Python310\\lib\\site-packages\\networkx\\drawing\\layout.py:482\u001b[0m, in \u001b[0;36mspring_layout\u001b[1;34m(G, k, pos, fixed, iterations, threshold, weight, scale, center, dim, seed)\u001b[0m\n\u001b[0;32m    480\u001b[0m         nnodes, _ \u001b[38;5;241m=\u001b[39m A\u001b[38;5;241m.\u001b[39mshape\n\u001b[0;32m    481\u001b[0m         k \u001b[38;5;241m=\u001b[39m dom_size \u001b[38;5;241m/\u001b[39m np\u001b[38;5;241m.\u001b[39msqrt(nnodes)\n\u001b[1;32m--> 482\u001b[0m     pos \u001b[38;5;241m=\u001b[39m \u001b[43m_sparse_fruchterman_reingold\u001b[49m\u001b[43m(\u001b[49m\n\u001b[0;32m    483\u001b[0m \u001b[43m        \u001b[49m\u001b[43mA\u001b[49m\u001b[43m,\u001b[49m\u001b[43m \u001b[49m\u001b[43mk\u001b[49m\u001b[43m,\u001b[49m\u001b[43m \u001b[49m\u001b[43mpos_arr\u001b[49m\u001b[43m,\u001b[49m\u001b[43m \u001b[49m\u001b[43mfixed\u001b[49m\u001b[43m,\u001b[49m\u001b[43m \u001b[49m\u001b[43miterations\u001b[49m\u001b[43m,\u001b[49m\u001b[43m \u001b[49m\u001b[43mthreshold\u001b[49m\u001b[43m,\u001b[49m\u001b[43m \u001b[49m\u001b[43mdim\u001b[49m\u001b[43m,\u001b[49m\u001b[43m \u001b[49m\u001b[43mseed\u001b[49m\n\u001b[0;32m    484\u001b[0m \u001b[43m    \u001b[49m\u001b[43m)\u001b[49m\n\u001b[0;32m    485\u001b[0m \u001b[38;5;28;01mexcept\u001b[39;00m \u001b[38;5;167;01mValueError\u001b[39;00m:\n\u001b[0;32m    486\u001b[0m     A \u001b[38;5;241m=\u001b[39m nx\u001b[38;5;241m.\u001b[39mto_numpy_array(G, weight\u001b[38;5;241m=\u001b[39mweight)\n",
      "File \u001b[1;32mc:\\Users\\Wajith Ali\\AppData\\Local\\Programs\\Python\\Python310\\lib\\site-packages\\networkx\\utils\\decorators.py:770\u001b[0m, in \u001b[0;36margmap.__call__.<locals>.func\u001b[1;34m(_argmap__wrapper, *args, **kwargs)\u001b[0m\n\u001b[0;32m    769\u001b[0m \u001b[38;5;28;01mdef\u001b[39;00m \u001b[38;5;21mfunc\u001b[39m(\u001b[38;5;241m*\u001b[39margs, __wrapper\u001b[38;5;241m=\u001b[39m\u001b[38;5;28;01mNone\u001b[39;00m, \u001b[38;5;241m*\u001b[39m\u001b[38;5;241m*\u001b[39mkwargs):\n\u001b[1;32m--> 770\u001b[0m     \u001b[38;5;28;01mreturn\u001b[39;00m argmap\u001b[38;5;241m.\u001b[39m_lazy_compile(__wrapper)(\u001b[38;5;241m*\u001b[39margs, \u001b[38;5;241m*\u001b[39m\u001b[38;5;241m*\u001b[39mkwargs)\n",
      "File \u001b[1;32m<class 'networkx.utils.decorators.argmap'> compilation 8:4\u001b[0m, in \u001b[0;36margmap__sparse_fruchterman_reingold_5\u001b[1;34m(A, k, pos, fixed, iterations, threshold, dim, seed)\u001b[0m\n\u001b[0;32m      2\u001b[0m \u001b[38;5;28;01mimport\u001b[39;00m \u001b[38;5;21;01mcollections\u001b[39;00m\n\u001b[0;32m      3\u001b[0m \u001b[38;5;28;01mimport\u001b[39;00m \u001b[38;5;21;01mgzip\u001b[39;00m\n\u001b[1;32m----> 4\u001b[0m \u001b[38;5;28;01mimport\u001b[39;00m \u001b[38;5;21;01minspect\u001b[39;00m\n\u001b[0;32m      5\u001b[0m \u001b[38;5;28;01mimport\u001b[39;00m \u001b[38;5;21;01mitertools\u001b[39;00m\n\u001b[0;32m      6\u001b[0m \u001b[38;5;28;01mimport\u001b[39;00m \u001b[38;5;21;01mre\u001b[39;00m\n",
      "File \u001b[1;32mc:\\Users\\Wajith Ali\\AppData\\Local\\Programs\\Python\\Python310\\lib\\site-packages\\networkx\\drawing\\layout.py:617\u001b[0m, in \u001b[0;36m_sparse_fruchterman_reingold\u001b[1;34m(A, k, pos, fixed, iterations, threshold, dim, seed)\u001b[0m\n\u001b[0;32m    615\u001b[0m delta \u001b[38;5;241m=\u001b[39m (pos[i] \u001b[38;5;241m-\u001b[39m pos)\u001b[38;5;241m.\u001b[39mT\n\u001b[0;32m    616\u001b[0m \u001b[38;5;66;03m# distance between points\u001b[39;00m\n\u001b[1;32m--> 617\u001b[0m distance \u001b[38;5;241m=\u001b[39m np\u001b[38;5;241m.\u001b[39msqrt(\u001b[43m(\u001b[49m\u001b[43mdelta\u001b[49m\u001b[38;5;241;43m*\u001b[39;49m\u001b[38;5;241;43m*\u001b[39;49m\u001b[38;5;241;43m2\u001b[39;49m\u001b[43m)\u001b[49m\u001b[38;5;241;43m.\u001b[39;49m\u001b[43msum\u001b[49m\u001b[43m(\u001b[49m\u001b[43maxis\u001b[49m\u001b[38;5;241;43m=\u001b[39;49m\u001b[38;5;241;43m0\u001b[39;49m\u001b[43m)\u001b[49m)\n\u001b[0;32m    618\u001b[0m \u001b[38;5;66;03m# enforce minimum distance of 0.01\u001b[39;00m\n\u001b[0;32m    619\u001b[0m distance \u001b[38;5;241m=\u001b[39m np\u001b[38;5;241m.\u001b[39mwhere(distance \u001b[38;5;241m<\u001b[39m \u001b[38;5;241m0.01\u001b[39m, \u001b[38;5;241m0.01\u001b[39m, distance)\n",
      "File \u001b[1;32mc:\\Users\\Wajith Ali\\AppData\\Local\\Programs\\Python\\Python310\\lib\\site-packages\\numpy\\core\\_methods.py:49\u001b[0m, in \u001b[0;36m_sum\u001b[1;34m(a, axis, dtype, out, keepdims, initial, where)\u001b[0m\n\u001b[0;32m     47\u001b[0m \u001b[38;5;28;01mdef\u001b[39;00m \u001b[38;5;21m_sum\u001b[39m(a, axis\u001b[38;5;241m=\u001b[39m\u001b[38;5;28;01mNone\u001b[39;00m, dtype\u001b[38;5;241m=\u001b[39m\u001b[38;5;28;01mNone\u001b[39;00m, out\u001b[38;5;241m=\u001b[39m\u001b[38;5;28;01mNone\u001b[39;00m, keepdims\u001b[38;5;241m=\u001b[39m\u001b[38;5;28;01mFalse\u001b[39;00m,\n\u001b[0;32m     48\u001b[0m          initial\u001b[38;5;241m=\u001b[39m_NoValue, where\u001b[38;5;241m=\u001b[39m\u001b[38;5;28;01mTrue\u001b[39;00m):\n\u001b[1;32m---> 49\u001b[0m     \u001b[38;5;28;01mreturn\u001b[39;00m \u001b[43mumr_sum\u001b[49m\u001b[43m(\u001b[49m\u001b[43ma\u001b[49m\u001b[43m,\u001b[49m\u001b[43m \u001b[49m\u001b[43maxis\u001b[49m\u001b[43m,\u001b[49m\u001b[43m \u001b[49m\u001b[43mdtype\u001b[49m\u001b[43m,\u001b[49m\u001b[43m \u001b[49m\u001b[43mout\u001b[49m\u001b[43m,\u001b[49m\u001b[43m \u001b[49m\u001b[43mkeepdims\u001b[49m\u001b[43m,\u001b[49m\u001b[43m \u001b[49m\u001b[43minitial\u001b[49m\u001b[43m,\u001b[49m\u001b[43m \u001b[49m\u001b[43mwhere\u001b[49m\u001b[43m)\u001b[49m\n",
      "\u001b[1;31mKeyboardInterrupt\u001b[0m: "
     ]
    },
    {
     "data": {
      "text/plain": [
       "<Figure size 720x576 with 0 Axes>"
      ]
     },
     "metadata": {},
     "output_type": "display_data"
    }
   ],
   "source": [
    "# source : https://towardsdatascience.com/\n",
    "athlete_sport_event_df = df[['ID', 'Sport', 'Event']]\n",
    "athlete_sport_event_groups = athlete_sport_event_df.groupby('ID').agg({'Sport': lambda x: list(set(x)),\n",
    "                                                                      'Event': lambda x: list(set(x))})\n",
    "G = nx.Graph()\n",
    "for sports in athlete_sport_event_groups['Sport']:\n",
    "    G.add_nodes_from(sports, bipartite='sport')\n",
    "for events in athlete_sport_event_groups['Event']:\n",
    "    G.add_nodes_from(events, bipartite='event')\n",
    "for idx, row in athlete_sport_event_groups.iterrows():\n",
    "    athlete = idx\n",
    "    sports = row['Sport']\n",
    "    events = row['Event']\n",
    "    for sport in sports:\n",
    "        G.add_edge(athlete, sport)\n",
    "    for event in events:\n",
    "        G.add_edge(athlete, event)\n",
    "\n",
    "sport_centrality = nx.degree_centrality(G)\n",
    "event_centrality = nx.degree_centrality(G)\n",
    "central_sports = sorted(sport_centrality, key=sport_centrality.get, reverse=True)[:5]\n",
    "central_events = sorted(event_centrality, key=event_centrality.get, reverse=True)[:5]\n",
    "\n",
    "\n",
    "print(\"Top 5 Central Sports:\")\n",
    "print(central_sports)\n",
    "print(\"\\nTop 5 Central Events:\")\n",
    "print(central_events)\n",
    "\n",
    "# Draw the network graph\n",
    "plt.figure(figsize=(10, 8))\n",
    "pos = nx.spring_layout(G)  # Position nodes using Fruchterman-Reingold force-directed algorithm\n",
    "nx.draw_networkx(G, pos, with_labels=True, node_size=100, font_size=8)\n",
    "plt.title('Network Analysis of Athlete Co-occurrence in Sports and Events')\n",
    "plt.show()"
   ]
  },
  {
   "cell_type": "markdown",
   "metadata": {},
   "source": [
    "# A3: Team and National Performance (Medium Importance)"
   ]
  },
  {
   "cell_type": "code",
   "execution_count": 12,
   "metadata": {},
   "outputs": [
    {
     "name": "stdout",
     "output_type": "stream",
     "text": [
      "     NOC  Total_Medals\n",
      "0    AFG             2\n",
      "1    AHO             1\n",
      "2    ALB             0\n",
      "3    ALG            17\n",
      "4    AND             0\n",
      "..   ...           ...\n",
      "225  YEM             0\n",
      "226  YMD             0\n",
      "227  YUG           390\n",
      "228  ZAM             2\n",
      "229  ZIM            22\n",
      "\n",
      "[230 rows x 2 columns]\n"
     ]
    }
   ],
   "source": [
    "def calculate_total_medals(df):\n",
    "    total_medals = df.groupby('NOC')['Medal'].count().reset_index()\n",
    "    total_medals.columns = ['NOC', 'Total_Medals']\n",
    "    return total_medals\n",
    "\n",
    "# Example usage:\n",
    "total_medals_df = calculate_total_medals(df)\n",
    "print(total_medals_df)"
   ]
  },
  {
   "cell_type": "code",
   "execution_count": 14,
   "metadata": {},
   "outputs": [
    {
     "name": "stdout",
     "output_type": "stream",
     "text": [
      "AFG and ZAM have won the same number of medals (2).\n"
     ]
    },
    {
     "data": {
      "image/png": "[encoded data removed]",
      "text/plain": [
       "<Figure size 432x288 with 1 Axes>"
      ]
     },
     "metadata": {
      "needs_background": "light"
     },
     "output_type": "display_data"
    },
    {
     "name": "stdout",
     "output_type": "stream",
     "text": [
      "AFG has won more medals (2) compared to AHO (1).\n"
     ]
    },
    {
     "data": {
      "image/png": "[encoded data removed]",
      "text/plain": [
       "<Figure size 432x288 with 1 Axes>"
      ]
     },
     "metadata": {
      "needs_background": "light"
     },
     "output_type": "display_data"
    },
    {
     "name": "stdout",
     "output_type": "stream",
     "text": [
      "ZAM has won more medals (2) compared to AHO (1).\n"
     ]
    },
    {
     "data": {
      "image/png": "[encoded data removed]",
      "text/plain": [
       "<Figure size 432x288 with 1 Axes>"
      ]
     },
     "metadata": {
      "needs_background": "light"
     },
     "output_type": "display_data"
    }
   ],
   "source": [
    "def compare_team_performance(df, *nocs):\n",
    "    noc_medals = {}\n",
    "    for noc in nocs:\n",
    "        noc_medals[noc] = df[df['NOC'] == noc]['Medal'].count()\n",
    "    \n",
    "    sorted_nocs = sorted(noc_medals.items(), key=lambda x: x[1], reverse=True)\n",
    "    \n",
    "    for i in range(len(sorted_nocs)):\n",
    "        for j in range(i+1, len(sorted_nocs)):\n",
    "            noc_1, medals_1 = sorted_nocs[i]\n",
    "            noc_2, medals_2 = sorted_nocs[j]\n",
    "            if medals_1 > medals_2:\n",
    "                print(f\"{noc_1} has won more medals ({medals_1}) compared to {noc_2} ({medals_2}).\")\n",
    "            elif medals_1 < medals_2:\n",
    "                print(f\"{noc_2} has won more medals ({medals_2}) compared to {noc_1} ({medals_1}).\")\n",
    "            else:\n",
    "                print(f\"{noc_1} and {noc_2} have won the same number of medals ({medals_1}).\")\n",
    "            plot_comparison_bar_chart(noc_1, medals_1, noc_2, medals_2)\n",
    "\n",
    "def plot_comparison_bar_chart(noc_1, noc_1_medals, noc_2, noc_2_medals):\n",
    "    fig, ax = plt.subplots()\n",
    "    bars = ax.bar([noc_1, noc_2], [noc_1_medals, noc_2_medals], color=['blue', 'red'])\n",
    "    ax.set_ylabel('Number of Medals')\n",
    "    ax.set_title('Comparison of Medals Won')\n",
    "    ax.set_xticks([noc_1, noc_2])\n",
    "    ax.set_xticklabels([noc_1, noc_2])\n",
    "    ax.legend(bars, ['Medals Won'])\n",
    "    plt.show()\n",
    "\n",
    "# Example usage:\n",
    "nocs_input = input(\"Enter NOCs separated by comma: \").split(',')\n",
    "compare_team_performance(df, *nocs_input)\n"
   ]
  },
  {
   "cell_type": "code",
   "execution_count": 16,
   "metadata": {},
   "outputs": [
    {
     "name": "stdout",
     "output_type": "stream",
     "text": [
      "<bound method NDFrame.head of      NOC  Medal_Success_Rate\n",
      "0    AFG            0.019417\n",
      "1    AHO            0.018182\n",
      "2    ALB            0.000000\n",
      "3    ALG            0.045576\n",
      "4    AND            0.000000\n",
      "..   ...                 ...\n",
      "225  YEM            0.000000\n",
      "226  YMD            0.000000\n",
      "227  YUG            0.307087\n",
      "228  ZAM            0.013793\n",
      "229  ZIM            0.112245\n",
      "\n",
      "[230 rows x 2 columns]>\n"
     ]
    }
   ],
   "source": [
    "def calculate_medal_success_rate(df):\n",
    "    total_medals = df.groupby('NOC')['Medal'].count()\n",
    "    total_participants = df.groupby('NOC')['ID'].nunique()\n",
    "    medal_success_rate = (total_medals / total_participants).reset_index()\n",
    "    medal_success_rate.columns = ['NOC', 'Medal_Success_Rate']\n",
    "    return medal_success_rate\n",
    "\n",
    "# Example usage:\n",
    "medal_success_rate_df = calculate_medal_success_rate(df)\n",
    "print(medal_success_rate_df.head)"
   ]
  },
  {
   "cell_type": "code",
   "execution_count": 18,
   "metadata": {},
   "outputs": [
    {
     "name": "stdout",
     "output_type": "stream",
     "text": [
      "NOC   AFG  AHO  ALB  ALG  AND  ANG  ANT   ANZ   ARG  ARM  ...  VIE  VIN  VNM  \\\n",
      "Year                                                      ...                  \n",
      "1896  0.0  0.0  0.0  0.0  0.0  0.0  0.0   0.0   0.0  0.0  ...  0.0  0.0  0.0   \n",
      "1900  0.0  0.0  0.0  0.0  0.0  0.0  0.0   0.0   0.0  0.0  ...  0.0  0.0  0.0   \n",
      "1904  0.0  0.0  0.0  0.0  0.0  0.0  0.0   0.0   0.0  0.0  ...  0.0  0.0  0.0   \n",
      "1906  0.0  0.0  0.0  0.0  0.0  0.0  0.0   0.0   0.0  0.0  ...  0.0  0.0  0.0   \n",
      "1908  0.0  0.0  0.0  0.0  0.0  0.0  0.0  19.0   0.0  0.0  ...  0.0  0.0  0.0   \n",
      "1912  0.0  0.0  0.0  0.0  0.0  0.0  0.0  10.0   0.0  0.0  ...  0.0  0.0  0.0   \n",
      "1920  0.0  0.0  0.0  0.0  0.0  0.0  0.0   0.0   0.0  0.0  ...  0.0  0.0  0.0   \n",
      "1924  0.0  0.0  0.0  0.0  0.0  0.0  0.0   0.0  10.0  0.0  ...  0.0  0.0  0.0   \n",
      "1928  0.0  0.0  0.0  0.0  0.0  0.0  0.0   0.0  26.0  0.0  ...  0.0  0.0  0.0   \n",
      "1932  0.0  0.0  0.0  0.0  0.0  0.0  0.0   0.0   4.0  0.0  ...  0.0  0.0  0.0   \n",
      "1936  0.0  0.0  0.0  0.0  0.0  0.0  0.0   0.0  11.0  0.0  ...  0.0  0.0  0.0   \n",
      "1948  0.0  0.0  0.0  0.0  0.0  0.0  0.0   0.0  11.0  0.0  ...  0.0  0.0  0.0   \n",
      "1952  0.0  0.0  0.0  0.0  0.0  0.0  0.0   0.0   6.0  0.0  ...  0.0  0.0  0.0   \n",
      "1956  0.0  0.0  0.0  0.0  0.0  0.0  0.0   0.0   2.0  0.0  ...  0.0  0.0  0.0   \n",
      "1960  0.0  0.0  0.0  0.0  0.0  0.0  0.0   0.0   4.0  0.0  ...  0.0  0.0  0.0   \n",
      "1964  0.0  0.0  0.0  0.0  0.0  0.0  0.0   0.0   1.0  0.0  ...  0.0  0.0  0.0   \n",
      "1968  0.0  0.0  0.0  0.0  0.0  0.0  0.0   0.0   2.0  0.0  ...  0.0  0.0  0.0   \n",
      "1972  0.0  0.0  0.0  0.0  0.0  0.0  0.0   0.0   1.0  0.0  ...  0.0  0.0  0.0   \n",
      "1976  0.0  0.0  0.0  0.0  0.0  0.0  0.0   0.0   0.0  0.0  ...  0.0  0.0  0.0   \n",
      "1980  0.0  0.0  0.0  0.0  0.0  0.0  0.0   0.0   0.0  0.0  ...  0.0  0.0  0.0   \n",
      "1984  0.0  0.0  0.0  2.0  0.0  0.0  0.0   0.0   0.0  0.0  ...  0.0  0.0  0.0   \n",
      "1988  0.0  1.0  0.0  0.0  0.0  0.0  0.0   0.0  13.0  0.0  ...  0.0  0.0  0.0   \n",
      "1992  0.0  0.0  0.0  2.0  0.0  0.0  0.0   0.0   2.0  0.0  ...  0.0  0.0  0.0   \n",
      "1994  0.0  0.0  0.0  0.0  0.0  0.0  0.0   0.0   0.0  0.0  ...  0.0  0.0  0.0   \n",
      "1996  0.0  0.0  0.0  3.0  0.0  0.0  0.0   0.0  20.0  2.0  ...  0.0  0.0  0.0   \n",
      "1998  0.0  0.0  0.0  0.0  0.0  0.0  0.0   0.0   0.0  0.0  ...  0.0  0.0  0.0   \n",
      "2000  0.0  0.0  0.0  5.0  0.0  0.0  0.0   0.0  20.0  1.0  ...  1.0  0.0  0.0   \n",
      "2002  0.0  0.0  0.0  0.0  0.0  0.0  0.0   0.0   0.0  0.0  ...  0.0  0.0  0.0   \n",
      "2004  0.0  0.0  0.0  0.0  0.0  0.0  0.0   0.0  49.0  0.0  ...  0.0  0.0  0.0   \n",
      "2006  0.0  0.0  0.0  0.0  0.0  0.0  0.0   0.0   0.0  0.0  ...  0.0  0.0  0.0   \n",
      "2008  1.0  0.0  0.0  2.0  0.0  0.0  0.0   0.0  51.0  6.0  ...  1.0  0.0  0.0   \n",
      "2010  0.0  0.0  0.0  0.0  0.0  0.0  0.0   0.0   0.0  0.0  ...  0.0  0.0  0.0   \n",
      "2012  1.0  0.0  0.0  1.0  0.0  0.0  0.0   0.0  19.0  3.0  ...  0.0  0.0  0.0   \n",
      "2014  0.0  0.0  0.0  0.0  0.0  0.0  0.0   0.0   0.0  0.0  ...  0.0  0.0  0.0   \n",
      "2016  0.0  0.0  0.0  2.0  0.0  0.0  0.0   0.0  22.0  4.0  ...  2.0  0.0  0.0   \n",
      "\n",
      "NOC   WIF  YAR  YEM  YMD   YUG  ZAM   ZIM  \n",
      "Year                                       \n",
      "1896  0.0  0.0  0.0  0.0   0.0  0.0   0.0  \n",
      "1900  0.0  0.0  0.0  0.0   0.0  0.0   0.0  \n",
      "1904  0.0  0.0  0.0  0.0   0.0  0.0   0.0  \n",
      "1906  0.0  0.0  0.0  0.0   0.0  0.0   0.0  \n",
      "1908  0.0  0.0  0.0  0.0   0.0  0.0   0.0  \n",
      "1912  0.0  0.0  0.0  0.0   0.0  0.0   0.0  \n",
      "1920  0.0  0.0  0.0  0.0   0.0  0.0   0.0  \n",
      "1924  0.0  0.0  0.0  0.0   2.0  0.0   0.0  \n",
      "1928  0.0  0.0  0.0  0.0  12.0  0.0   0.0  \n",
      "1932  0.0  0.0  0.0  0.0   0.0  0.0   0.0  \n",
      "1936  0.0  0.0  0.0  0.0   1.0  0.0   0.0  \n",
      "1948  0.0  0.0  0.0  0.0  16.0  0.0   0.0  \n",
      "1952  0.0  0.0  0.0  0.0  24.0  0.0   0.0  \n",
      "1956  0.0  0.0  0.0  0.0  23.0  0.0   0.0  \n",
      "1960  5.0  0.0  0.0  0.0  17.0  0.0   0.0  \n",
      "1964  0.0  0.0  0.0  0.0  15.0  0.0   0.0  \n",
      "1968  0.0  0.0  0.0  0.0  29.0  0.0   0.0  \n",
      "1972  0.0  0.0  0.0  0.0  18.0  0.0   0.0  \n",
      "1976  0.0  0.0  0.0  0.0  19.0  0.0   0.0  \n",
      "1980  0.0  0.0  0.0  0.0  57.0  0.0  15.0  \n",
      "1984  0.0  0.0  0.0  0.0  88.0  1.0   0.0  \n",
      "1988  0.0  0.0  0.0  0.0  69.0  0.0   0.0  \n",
      "1992  0.0  0.0  0.0  0.0   0.0  0.0   0.0  \n",
      "1994  0.0  0.0  0.0  0.0   0.0  0.0   0.0  \n",
      "1996  0.0  0.0  0.0  0.0   0.0  1.0   0.0  \n",
      "1998  0.0  0.0  0.0  0.0   0.0  0.0   0.0  \n",
      "2000  0.0  0.0  0.0  0.0   0.0  0.0   0.0  \n",
      "2002  0.0  0.0  0.0  0.0   0.0  0.0   0.0  \n",
      "2004  0.0  0.0  0.0  0.0   0.0  0.0   3.0  \n",
      "2006  0.0  0.0  0.0  0.0   0.0  0.0   0.0  \n",
      "2008  0.0  0.0  0.0  0.0   0.0  0.0   4.0  \n",
      "2010  0.0  0.0  0.0  0.0   0.0  0.0   0.0  \n",
      "2012  0.0  0.0  0.0  0.0   0.0  0.0   0.0  \n",
      "2014  0.0  0.0  0.0  0.0   0.0  0.0   0.0  \n",
      "2016  0.0  0.0  0.0  0.0   0.0  0.0   0.0  \n",
      "\n",
      "[35 rows x 230 columns]\n"
     ]
    }
   ],
   "source": [
    "def track_performance_over_time(df):\n",
    "    performance_over_time = df.groupby(['Year', 'NOC'])['Medal'].count().unstack().fillna(0)\n",
    "    return performance_over_time\n",
    "\n",
    "# Example usage:\n",
    "performance_over_time_df = track_performance_over_time(df)\n",
    "print(performance_over_time_df)"
   ]
  },
  {
   "cell_type": "code",
   "execution_count": 67,
   "metadata": {},
   "outputs": [
    {
     "name": "stdout",
     "output_type": "stream",
     "text": [
      "Ranked Medal Counts by Team/NOC:\n",
      "     NOC  Medal\n",
      "141  USA   5637\n",
      "139  URS   2503\n",
      "49   GER   2165\n",
      "46   GBR   2068\n",
      "43   FRA   1777\n",
      "..   ...    ...\n",
      "114  SEN      1\n",
      "127  TGA      1\n",
      "36   ERI      1\n",
      "29   CYP      1\n",
      "63   IRQ      1\n",
      "\n",
      "[149 rows x 2 columns]\n"
     ]
    }
   ],
   "source": [
    "medal_data = df[df['Medal'].notnull()]\n",
    "medal_counts = medal_data.groupby('NOC')['Medal'].count().reset_index()\n",
    "medal_counts_ranked = medal_counts.sort_values(by='Medal', ascending=False)\n",
    "\n",
    "print(\"Ranked Medal Counts by Team/NOC:\")\n",
    "print(medal_counts_ranked)\n",
    "\n",
    "medal_counts_ranked.to_csv('medal_counts_ranked.csv', index=False)"
   ]
  },
  {
   "cell_type": "code",
   "execution_count": 101,
   "metadata": {},
   "outputs": [
    {
     "name": "stderr",
     "output_type": "stream",
     "text": [
      "C:\\Users\\Wajith Ali\\AppData\\Local\\Temp\\ipykernel_19664\\3414289936.py:7: SettingWithCopyWarning:\n",
      "\n",
      "\n",
      "A value is trying to be set on a copy of a slice from a DataFrame.\n",
      "Try using .loc[row_indexer,col_indexer] = value instead\n",
      "\n",
      "See the caveats in the documentation: https://pandas.pydata.org/pandas-docs/stable/user_guide/indexing.html#returning-a-view-versus-a-copy\n",
      "\n"
     ]
    },
    {
     "data": {
      "application/vnd.plotly.v1+json": {
       "config": {
        "plotlyServerURL": "https://plot.ly"
       },
       "data": [
        {
         "alignmentgroup": "True",
         "hovertemplate": "Event=%{x}<br>count=%{y}<extra></extra>",
         "legendgroup": "",
         "marker": {
          "color": "#636efa",
          "pattern": {
           "shape": ""
          }
         },
         "name": "",
         "offsetgroup": "",
         "orientation": "v",
         "showlegend": false,
         "textposition": "auto",
         "type": "bar",
         "x": [
          "Basketball Men's Basketball",
          "Basketball Women's Basketball"
         ],
         "xaxis": "x",
         "y": [
          1,
          1
         ],
         "yaxis": "y"
        }
       ],
       "layout": {
        "barmode": "relative",
        "legend": {
         "tracegroupgap": 0
        },
        "template": {
         "data": {
          "bar": [
           {
            "error_x": {
             "color": "#2a3f5f"
            },
            "error_y": {
             "color": "#2a3f5f"
            },
            "marker": {
             "line": {
              "color": "#E5ECF6",
              "width": 0.5
             },
             "pattern": {
              "fillmode": "overlay",
              "size": 10,
              "solidity": 0.2
             }
            },
            "type": "bar"
           }
          ],
          "barpolar": [
           {
            "marker": {
             "line": {
              "color": "#E5ECF6",
              "width": 0.5
             },
             "pattern": {
              "fillmode": "overlay",
              "size": 10,
              "solidity": 0.2
             }
            },
            "type": "barpolar"
           }
          ],
          "carpet": [
           {
            "aaxis": {
             "endlinecolor": "#2a3f5f",
             "gridcolor": "white",
             "linecolor": "white",
             "minorgridcolor": "white",
             "startlinecolor": "#2a3f5f"
            },
            "baxis": {
             "endlinecolor": "#2a3f5f",
             "gridcolor": "white",
             "linecolor": "white",
             "minorgridcolor": "white",
             "startlinecolor": "#2a3f5f"
            },
            "type": "carpet"
           }
          ],
          "choropleth": [
           {
            "colorbar": {
             "outlinewidth": 0,
             "ticks": ""
            },
            "type": "choropleth"
           }
          ],
          "contour": [
           {
            "colorbar": {
             "outlinewidth": 0,
             "ticks": ""
            },
            "colorscale": [
             [
              0,
              "#0d0887"
             ],
             [
              0.1111111111111111,
              "#46039f"
             ],
             [
              0.2222222222222222,
              "#7201a8"
             ],
             [
              0.3333333333333333,
              "#9c179e"
             ],
             [
              0.4444444444444444,
              "#bd3786"
             ],
             [
              0.5555555555555556,
              "#d8576b"
             ],
             [
              0.6666666666666666,
              "#ed7953"
             ],
             [
              0.7777777777777778,
              "#fb9f3a"
             ],
             [
              0.8888888888888888,
              "#fdca26"
             ],
             [
              1,
              "#f0f921"
             ]
            ],
            "type": "contour"
           }
          ],
          "contourcarpet": [
           {
            "colorbar": {
             "outlinewidth": 0,
             "ticks": ""
            },
            "type": "contourcarpet"
           }
          ],
          "heatmap": [
           {
            "colorbar": {
             "outlinewidth": 0,
             "ticks": ""
            },
            "colorscale": [
             [
              0,
              "#0d0887"
             ],
             [
              0.1111111111111111,
              "#46039f"
             ],
             [
              0.2222222222222222,
              "#7201a8"
             ],
             [
              0.3333333333333333,
              "#9c179e"
             ],
             [
              0.4444444444444444,
              "#bd3786"
             ],
             [
              0.5555555555555556,
              "#d8576b"
             ],
             [
              0.6666666666666666,
              "#ed7953"
             ],
             [
              0.7777777777777778,
              "#fb9f3a"
             ],
             [
              0.8888888888888888,
              "#fdca26"
             ],
             [
              1,
              "#f0f921"
             ]
            ],
            "type": "heatmap"
           }
          ],
          "heatmapgl": [
           {
            "colorbar": {
             "outlinewidth": 0,
             "ticks": ""
            },
            "colorscale": [
             [
              0,
              "#0d0887"
             ],
             [
              0.1111111111111111,
              "#46039f"
             ],
             [
              0.2222222222222222,
              "#7201a8"
             ],
             [
              0.3333333333333333,
              "#9c179e"
             ],
             [
              0.4444444444444444,
              "#bd3786"
             ],
             [
              0.5555555555555556,
              "#d8576b"
             ],
             [
              0.6666666666666666,
              "#ed7953"
             ],
             [
              0.7777777777777778,
              "#fb9f3a"
             ],
             [
              0.8888888888888888,
              "#fdca26"
             ],
             [
              1,
              "#f0f921"
             ]
            ],
            "type": "heatmapgl"
           }
          ],
          "histogram": [
           {
            "marker": {
             "pattern": {
              "fillmode": "overlay",
              "size": 10,
              "solidity": 0.2
             }
            },
            "type": "histogram"
           }
          ],
          "histogram2d": [
           {
            "colorbar": {
             "outlinewidth": 0,
             "ticks": ""
            },
            "colorscale": [
             [
              0,
              "#0d0887"
             ],
             [
              0.1111111111111111,
              "#46039f"
             ],
             [
              0.2222222222222222,
              "#7201a8"
             ],
             [
              0.3333333333333333,
              "#9c179e"
             ],
             [
              0.4444444444444444,
              "#bd3786"
             ],
             [
              0.5555555555555556,
              "#d8576b"
             ],
             [
              0.6666666666666666,
              "#ed7953"
             ],
             [
              0.7777777777777778,
              "#fb9f3a"
             ],
             [
              0.8888888888888888,
              "#fdca26"
             ],
             [
              1,
              "#f0f921"
             ]
            ],
            "type": "histogram2d"
           }
          ],
          "histogram2dcontour": [
           {
            "colorbar": {
             "outlinewidth": 0,
             "ticks": ""
            },
            "colorscale": [
             [
              0,
              "#0d0887"
             ],
             [
              0.1111111111111111,
              "#46039f"
             ],
             [
              0.2222222222222222,
              "#7201a8"
             ],
             [
              0.3333333333333333,
              "#9c179e"
             ],
             [
              0.4444444444444444,
              "#bd3786"
             ],
             [
              0.5555555555555556,
              "#d8576b"
             ],
             [
              0.6666666666666666,
              "#ed7953"
             ],
             [
              0.7777777777777778,
              "#fb9f3a"
             ],
             [
              0.8888888888888888,
              "#fdca26"
             ],
             [
              1,
              "#f0f921"
             ]
            ],
            "type": "histogram2dcontour"
           }
          ],
          "mesh3d": [
           {
            "colorbar": {
             "outlinewidth": 0,
             "ticks": ""
            },
            "type": "mesh3d"
           }
          ],
          "parcoords": [
           {
            "line": {
             "colorbar": {
              "outlinewidth": 0,
              "ticks": ""
             }
            },
            "type": "parcoords"
           }
          ],
          "pie": [
           {
            "automargin": true,
            "type": "pie"
           }
          ],
          "scatter": [
           {
            "fillpattern": {
             "fillmode": "overlay",
             "size": 10,
             "solidity": 0.2
            },
            "type": "scatter"
           }
          ],
          "scatter3d": [
           {
            "line": {
             "colorbar": {
              "outlinewidth": 0,
              "ticks": ""
             }
            },
            "marker": {
             "colorbar": {
              "outlinewidth": 0,
              "ticks": ""
             }
            },
            "type": "scatter3d"
           }
          ],
          "scattercarpet": [
           {
            "marker": {
             "colorbar": {
              "outlinewidth": 0,
              "ticks": ""
             }
            },
            "type": "scattercarpet"
           }
          ],
          "scattergeo": [
           {
            "marker": {
             "colorbar": {
              "outlinewidth": 0,
              "ticks": ""
             }
            },
            "type": "scattergeo"
           }
          ],
          "scattergl": [
           {
            "marker": {
             "colorbar": {
              "outlinewidth": 0,
              "ticks": ""
             }
            },
            "type": "scattergl"
           }
          ],
          "scattermapbox": [
           {
            "marker": {
             "colorbar": {
              "outlinewidth": 0,
              "ticks": ""
             }
            },
            "type": "scattermapbox"
           }
          ],
          "scatterpolar": [
           {
            "marker": {
             "colorbar": {
              "outlinewidth": 0,
              "ticks": ""
             }
            },
            "type": "scatterpolar"
           }
          ],
          "scatterpolargl": [
           {
            "marker": {
             "colorbar": {
              "outlinewidth": 0,
              "ticks": ""
             }
            },
            "type": "scatterpolargl"
           }
          ],
          "scatterternary": [
           {
            "marker": {
             "colorbar": {
              "outlinewidth": 0,
              "ticks": ""
             }
            },
            "type": "scatterternary"
           }
          ],
          "surface": [
           {
            "colorbar": {
             "outlinewidth": 0,
             "ticks": ""
            },
            "colorscale": [
             [
              0,
              "#0d0887"
             ],
             [
              0.1111111111111111,
              "#46039f"
             ],
             [
              0.2222222222222222,
              "#7201a8"
             ],
             [
              0.3333333333333333,
              "#9c179e"
             ],
             [
              0.4444444444444444,
              "#bd3786"
             ],
             [
              0.5555555555555556,
              "#d8576b"
             ],
             [
              0.6666666666666666,
              "#ed7953"
             ],
             [
              0.7777777777777778,
              "#fb9f3a"
             ],
             [
              0.8888888888888888,
              "#fdca26"
             ],
             [
              1,
              "#f0f921"
             ]
            ],
            "type": "surface"
           }
          ],
          "table": [
           {
            "cells": {
             "fill": {
              "color": "#EBF0F8"
             },
             "line": {
              "color": "white"
             }
            },
            "header": {
             "fill": {
              "color": "#C8D4E3"
             },
             "line": {
              "color": "white"
             }
            },
            "type": "table"
           }
          ]
         },
         "layout": {
          "annotationdefaults": {
           "arrowcolor": "#2a3f5f",
           "arrowhead": 0,
           "arrowwidth": 1
          },
          "autotypenumbers": "strict",
          "coloraxis": {
           "colorbar": {
            "outlinewidth": 0,
            "ticks": ""
           }
          },
          "colorscale": {
           "diverging": [
            [
             0,
             "#8e0152"
            ],
            [
             0.1,
             "#c51b7d"
            ],
            [
             0.2,
             "#de77ae"
            ],
            [
             0.3,
             "#f1b6da"
            ],
            [
             0.4,
             "#fde0ef"
            ],
            [
             0.5,
             "#f7f7f7"
            ],
            [
             0.6,
             "#e6f5d0"
            ],
            [
             0.7,
             "#b8e186"
            ],
            [
             0.8,
             "#7fbc41"
            ],
            [
             0.9,
             "#4d9221"
            ],
            [
             1,
             "#276419"
            ]
           ],
           "sequential": [
            [
             0,
             "#0d0887"
            ],
            [
             0.1111111111111111,
             "#46039f"
            ],
            [
             0.2222222222222222,
             "#7201a8"
            ],
            [
             0.3333333333333333,
             "#9c179e"
            ],
            [
             0.4444444444444444,
             "#bd3786"
            ],
            [
             0.5555555555555556,
             "#d8576b"
            ],
            [
             0.6666666666666666,
             "#ed7953"
            ],
            [
             0.7777777777777778,
             "#fb9f3a"
            ],
            [
             0.8888888888888888,
             "#fdca26"
            ],
            [
             1,
             "#f0f921"
            ]
           ],
           "sequentialminus": [
            [
             0,
             "#0d0887"
            ],
            [
             0.1111111111111111,
             "#46039f"
            ],
            [
             0.2222222222222222,
             "#7201a8"
            ],
            [
             0.3333333333333333,
             "#9c179e"
            ],
            [
             0.4444444444444444,
             "#bd3786"
            ],
            [
             0.5555555555555556,
             "#d8576b"
            ],
            [
             0.6666666666666666,
             "#ed7953"
            ],
            [
             0.7777777777777778,
             "#fb9f3a"
            ],
            [
             0.8888888888888888,
             "#fdca26"
            ],
            [
             1,
             "#f0f921"
            ]
           ]
          },
          "colorway": [
           "#636efa",
           "#EF553B",
           "#00cc96",
           "#ab63fa",
           "#FFA15A",
           "#19d3f3",
           "#FF6692",
           "#B6E880",
           "#FF97FF",
           "#FECB52"
          ],
          "font": {
           "color": "#2a3f5f"
          },
          "geo": {
           "bgcolor": "white",
           "lakecolor": "white",
           "landcolor": "#E5ECF6",
           "showlakes": true,
           "showland": true,
           "subunitcolor": "white"
          },
          "hoverlabel": {
           "align": "left"
          },
          "hovermode": "closest",
          "mapbox": {
           "style": "light"
          },
          "paper_bgcolor": "white",
          "plot_bgcolor": "#E5ECF6",
          "polar": {
           "angularaxis": {
            "gridcolor": "white",
            "linecolor": "white",
            "ticks": ""
           },
           "bgcolor": "#E5ECF6",
           "radialaxis": {
            "gridcolor": "white",
            "linecolor": "white",
            "ticks": ""
           }
          },
          "scene": {
           "xaxis": {
            "backgroundcolor": "#E5ECF6",
            "gridcolor": "white",
            "gridwidth": 2,
            "linecolor": "white",
            "showbackground": true,
            "ticks": "",
            "zerolinecolor": "white"
           },
           "yaxis": {
            "backgroundcolor": "#E5ECF6",
            "gridcolor": "white",
            "gridwidth": 2,
            "linecolor": "white",
            "showbackground": true,
            "ticks": "",
            "zerolinecolor": "white"
           },
           "zaxis": {
            "backgroundcolor": "#E5ECF6",
            "gridcolor": "white",
            "gridwidth": 2,
            "linecolor": "white",
            "showbackground": true,
            "ticks": "",
            "zerolinecolor": "white"
           }
          },
          "shapedefaults": {
           "line": {
            "color": "#2a3f5f"
           }
          },
          "ternary": {
           "aaxis": {
            "gridcolor": "white",
            "linecolor": "white",
            "ticks": ""
           },
           "baxis": {
            "gridcolor": "white",
            "linecolor": "white",
            "ticks": ""
           },
           "bgcolor": "#E5ECF6",
           "caxis": {
            "gridcolor": "white",
            "linecolor": "white",
            "ticks": ""
           }
          },
          "title": {
           "x": 0.05
          },
          "xaxis": {
           "automargin": true,
           "gridcolor": "white",
           "linecolor": "white",
           "ticks": "",
           "title": {
            "standoff": 15
           },
           "zerolinecolor": "white",
           "zerolinewidth": 2
          },
          "yaxis": {
           "automargin": true,
           "gridcolor": "white",
           "linecolor": "white",
           "ticks": "",
           "title": {
            "standoff": 15
           },
           "zerolinecolor": "white",
           "zerolinewidth": 2
          }
         }
        },
        "title": {
         "text": "Performance Over Time: Basketball (Gold Medals)"
        },
        "xaxis": {
         "anchor": "y",
         "domain": [
          0,
          1
         ],
         "title": {
          "text": "Olympic Games"
         }
        },
        "yaxis": {
         "anchor": "x",
         "domain": [
          0,
          1
         ],
         "title": {
          "text": "Medal Count"
         }
        }
       }
      }
     },
     "metadata": {},
     "output_type": "display_data"
    }
   ],
   "source": [
    "\n",
    "df['Medal'] = df['Medal'].fillna(0)\n",
    "def analyze_performance_over_time(data, sport, medal_kind):\n",
    "  filtered_data = data[(data['Sport'] == sport) & (data['Medal'] == (medal_kind == 'Gold'))]\n",
    "  games_data = filtered_data.groupby('Event')\n",
    "  medal_counts = games_data.size()  \n",
    "  return medal_counts\n",
    "\n",
    "def generate_interactive_plot(data, sport, medal_kind):\n",
    "  performance_over_time = analyze_performance_over_time(data.copy(), sport, medal_kind)\n",
    "  fig = bar(performance_over_time, x=performance_over_time.index, title=f\"Performance Over Time: {sport} ({medal_kind.capitalize()} Medals)\")\n",
    "  fig.update_layout(xaxis_title='Olympic Games', yaxis_title='Medal Count')\n",
    "  fig.show() \n",
    "\n",
    "\n",
    "sport = input(\"Enter the sport to analyze: \")\n",
    "medal_kind = input(\"Enter the medal kind (gold, silver, or bronze): \")\n",
    "medal_kind = medal_kind.lower() \n",
    "\n",
    "generate_interactive_plot(df.copy(), sport, medal_kind)\n"
   ]
  },
  {
   "cell_type": "code",
   "execution_count": 114,
   "metadata": {},
   "outputs": [
    {
     "data": {
      "application/vnd.plotly.v1+json": {
       "config": {
        "plotlyServerURL": "https://plot.ly"
       },
       "data": [
        {
         "alignmentgroup": "True",
         "hovertemplate": "NOC=%{x}<br>count=%{y}<extra></extra>",
         "legendgroup": "",
         "marker": {
          "color": "#636efa",
          "pattern": {
           "shape": ""
          }
         },
         "name": "",
         "offsetgroup": "",
         "orientation": "v",
         "showlegend": false,
         "textposition": "auto",
         "type": "bar",
         "x": [
          "DEN",
          "FIN",
          "NED"
         ],
         "xaxis": "x",
         "y": [
          1,
          1,
          1
         ],
         "yaxis": "y"
        }
       ],
       "layout": {
        "barmode": "relative",
        "legend": {
         "tracegroupgap": 0
        },
        "template": {
         "data": {
          "bar": [
           {
            "error_x": {
             "color": "#2a3f5f"
            },
            "error_y": {
             "color": "#2a3f5f"
            },
            "marker": {
             "line": {
              "color": "#E5ECF6",
              "width": 0.5
             },
             "pattern": {
              "fillmode": "overlay",
              "size": 10,
              "solidity": 0.2
             }
            },
            "type": "bar"
           }
          ],
          "barpolar": [
           {
            "marker": {
             "line": {
              "color": "#E5ECF6",
              "width": 0.5
             },
             "pattern": {
              "fillmode": "overlay",
              "size": 10,
              "solidity": 0.2
             }
            },
            "type": "barpolar"
           }
          ],
          "carpet": [
           {
            "aaxis": {
             "endlinecolor": "#2a3f5f",
             "gridcolor": "white",
             "linecolor": "white",
             "minorgridcolor": "white",
             "startlinecolor": "#2a3f5f"
            },
            "baxis": {
             "endlinecolor": "#2a3f5f",
             "gridcolor": "white",
             "linecolor": "white",
             "minorgridcolor": "white",
             "startlinecolor": "#2a3f5f"
            },
            "type": "carpet"
           }
          ],
          "choropleth": [
           {
            "colorbar": {
             "outlinewidth": 0,
             "ticks": ""
            },
            "type": "choropleth"
           }
          ],
          "contour": [
           {
            "colorbar": {
             "outlinewidth": 0,
             "ticks": ""
            },
            "colorscale": [
             [
              0,
              "#0d0887"
             ],
             [
              0.1111111111111111,
              "#46039f"
             ],
             [
              0.2222222222222222,
              "#7201a8"
             ],
             [
              0.3333333333333333,
              "#9c179e"
             ],
             [
              0.4444444444444444,
              "#bd3786"
             ],
             [
              0.5555555555555556,
              "#d8576b"
             ],
             [
              0.6666666666666666,
              "#ed7953"
             ],
             [
              0.7777777777777778,
              "#fb9f3a"
             ],
             [
              0.8888888888888888,
              "#fdca26"
             ],
             [
              1,
              "#f0f921"
             ]
            ],
            "type": "contour"
           }
          ],
          "contourcarpet": [
           {
            "colorbar": {
             "outlinewidth": 0,
             "ticks": ""
            },
            "type": "contourcarpet"
           }
          ],
          "heatmap": [
           {
            "colorbar": {
             "outlinewidth": 0,
             "ticks": ""
            },
            "colorscale": [
             [
              0,
              "#0d0887"
             ],
             [
              0.1111111111111111,
              "#46039f"
             ],
             [
              0.2222222222222222,
              "#7201a8"
             ],
             [
              0.3333333333333333,
              "#9c179e"
             ],
             [
              0.4444444444444444,
              "#bd3786"
             ],
             [
              0.5555555555555556,
              "#d8576b"
             ],
             [
              0.6666666666666666,
              "#ed7953"
             ],
             [
              0.7777777777777778,
              "#fb9f3a"
             ],
             [
              0.8888888888888888,
              "#fdca26"
             ],
             [
              1,
              "#f0f921"
             ]
            ],
            "type": "heatmap"
           }
          ],
          "heatmapgl": [
           {
            "colorbar": {
             "outlinewidth": 0,
             "ticks": ""
            },
            "colorscale": [
             [
              0,
              "#0d0887"
             ],
             [
              0.1111111111111111,
              "#46039f"
             ],
             [
              0.2222222222222222,
              "#7201a8"
             ],
             [
              0.3333333333333333,
              "#9c179e"
             ],
             [
              0.4444444444444444,
              "#bd3786"
             ],
             [
              0.5555555555555556,
              "#d8576b"
             ],
             [
              0.6666666666666666,
              "#ed7953"
             ],
             [
              0.7777777777777778,
              "#fb9f3a"
             ],
             [
              0.8888888888888888,
              "#fdca26"
             ],
             [
              1,
              "#f0f921"
             ]
            ],
            "type": "heatmapgl"
           }
          ],
          "histogram": [
           {
            "marker": {
             "pattern": {
              "fillmode": "overlay",
              "size": 10,
              "solidity": 0.2
             }
            },
            "type": "histogram"
           }
          ],
          "histogram2d": [
           {
            "colorbar": {
             "outlinewidth": 0,
             "ticks": ""
            },
            "colorscale": [
             [
              0,
              "#0d0887"
             ],
             [
              0.1111111111111111,
              "#46039f"
             ],
             [
              0.2222222222222222,
              "#7201a8"
             ],
             [
              0.3333333333333333,
              "#9c179e"
             ],
             [
              0.4444444444444444,
              "#bd3786"
             ],
             [
              0.5555555555555556,
              "#d8576b"
             ],
             [
              0.6666666666666666,
              "#ed7953"
             ],
             [
              0.7777777777777778,
              "#fb9f3a"
             ],
             [
              0.8888888888888888,
              "#fdca26"
             ],
             [
              1,
              "#f0f921"
             ]
            ],
            "type": "histogram2d"
           }
          ],
          "histogram2dcontour": [
           {
            "colorbar": {
             "outlinewidth": 0,
             "ticks": ""
            },
            "colorscale": [
             [
              0,
              "#0d0887"
             ],
             [
              0.1111111111111111,
              "#46039f"
             ],
             [
              0.2222222222222222,
              "#7201a8"
             ],
             [
              0.3333333333333333,
              "#9c179e"
             ],
             [
              0.4444444444444444,
              "#bd3786"
             ],
             [
              0.5555555555555556,
              "#d8576b"
             ],
             [
              0.6666666666666666,
              "#ed7953"
             ],
             [
              0.7777777777777778,
              "#fb9f3a"
             ],
             [
              0.8888888888888888,
              "#fdca26"
             ],
             [
              1,
              "#f0f921"
             ]
            ],
            "type": "histogram2dcontour"
           }
          ],
          "mesh3d": [
           {
            "colorbar": {
             "outlinewidth": 0,
             "ticks": ""
            },
            "type": "mesh3d"
           }
          ],
          "parcoords": [
           {
            "line": {
             "colorbar": {
              "outlinewidth": 0,
              "ticks": ""
             }
            },
            "type": "parcoords"
           }
          ],
          "pie": [
           {
            "automargin": true,
            "type": "pie"
           }
          ],
          "scatter": [
           {
            "fillpattern": {
             "fillmode": "overlay",
             "size": 10,
             "solidity": 0.2
            },
            "type": "scatter"
           }
          ],
          "scatter3d": [
           {
            "line": {
             "colorbar": {
              "outlinewidth": 0,
              "ticks": ""
             }
            },
            "marker": {
             "colorbar": {
              "outlinewidth": 0,
              "ticks": ""
             }
            },
            "type": "scatter3d"
           }
          ],
          "scattercarpet": [
           {
            "marker": {
             "colorbar": {
              "outlinewidth": 0,
              "ticks": ""
             }
            },
            "type": "scattercarpet"
           }
          ],
          "scattergeo": [
           {
            "marker": {
             "colorbar": {
              "outlinewidth": 0,
              "ticks": ""
             }
            },
            "type": "scattergeo"
           }
          ],
          "scattergl": [
           {
            "marker": {
             "colorbar": {
              "outlinewidth": 0,
              "ticks": ""
             }
            },
            "type": "scattergl"
           }
          ],
          "scattermapbox": [
           {
            "marker": {
             "colorbar": {
              "outlinewidth": 0,
              "ticks": ""
             }
            },
            "type": "scattermapbox"
           }
          ],
          "scatterpolar": [
           {
            "marker": {
             "colorbar": {
              "outlinewidth": 0,
              "ticks": ""
             }
            },
            "type": "scatterpolar"
           }
          ],
          "scatterpolargl": [
           {
            "marker": {
             "colorbar": {
              "outlinewidth": 0,
              "ticks": ""
             }
            },
            "type": "scatterpolargl"
           }
          ],
          "scatterternary": [
           {
            "marker": {
             "colorbar": {
              "outlinewidth": 0,
              "ticks": ""
             }
            },
            "type": "scatterternary"
           }
          ],
          "surface": [
           {
            "colorbar": {
             "outlinewidth": 0,
             "ticks": ""
            },
            "colorscale": [
             [
              0,
              "#0d0887"
             ],
             [
              0.1111111111111111,
              "#46039f"
             ],
             [
              0.2222222222222222,
              "#7201a8"
             ],
             [
              0.3333333333333333,
              "#9c179e"
             ],
             [
              0.4444444444444444,
              "#bd3786"
             ],
             [
              0.5555555555555556,
              "#d8576b"
             ],
             [
              0.6666666666666666,
              "#ed7953"
             ],
             [
              0.7777777777777778,
              "#fb9f3a"
             ],
             [
              0.8888888888888888,
              "#fdca26"
             ],
             [
              1,
              "#f0f921"
             ]
            ],
            "type": "surface"
           }
          ],
          "table": [
           {
            "cells": {
             "fill": {
              "color": "#EBF0F8"
             },
             "line": {
              "color": "white"
             }
            },
            "header": {
             "fill": {
              "color": "#C8D4E3"
             },
             "line": {
              "color": "white"
             }
            },
            "type": "table"
           }
          ]
         },
         "layout": {
          "annotationdefaults": {
           "arrowcolor": "#2a3f5f",
           "arrowhead": 0,
           "arrowwidth": 1
          },
          "autotypenumbers": "strict",
          "coloraxis": {
           "colorbar": {
            "outlinewidth": 0,
            "ticks": ""
           }
          },
          "colorscale": {
           "diverging": [
            [
             0,
             "#8e0152"
            ],
            [
             0.1,
             "#c51b7d"
            ],
            [
             0.2,
             "#de77ae"
            ],
            [
             0.3,
             "#f1b6da"
            ],
            [
             0.4,
             "#fde0ef"
            ],
            [
             0.5,
             "#f7f7f7"
            ],
            [
             0.6,
             "#e6f5d0"
            ],
            [
             0.7,
             "#b8e186"
            ],
            [
             0.8,
             "#7fbc41"
            ],
            [
             0.9,
             "#4d9221"
            ],
            [
             1,
             "#276419"
            ]
           ],
           "sequential": [
            [
             0,
             "#0d0887"
            ],
            [
             0.1111111111111111,
             "#46039f"
            ],
            [
             0.2222222222222222,
             "#7201a8"
            ],
            [
             0.3333333333333333,
             "#9c179e"
            ],
            [
             0.4444444444444444,
             "#bd3786"
            ],
            [
             0.5555555555555556,
             "#d8576b"
            ],
            [
             0.6666666666666666,
             "#ed7953"
            ],
            [
             0.7777777777777778,
             "#fb9f3a"
            ],
            [
             0.8888888888888888,
             "#fdca26"
            ],
            [
             1,
             "#f0f921"
            ]
           ],
           "sequentialminus": [
            [
             0,
             "#0d0887"
            ],
            [
             0.1111111111111111,
             "#46039f"
            ],
            [
             0.2222222222222222,
             "#7201a8"
            ],
            [
             0.3333333333333333,
             "#9c179e"
            ],
            [
             0.4444444444444444,
             "#bd3786"
            ],
            [
             0.5555555555555556,
             "#d8576b"
            ],
            [
             0.6666666666666666,
             "#ed7953"
            ],
            [
             0.7777777777777778,
             "#fb9f3a"
            ],
            [
             0.8888888888888888,
             "#fdca26"
            ],
            [
             1,
             "#f0f921"
            ]
           ]
          },
          "colorway": [
           "#636efa",
           "#EF553B",
           "#00cc96",
           "#ab63fa",
           "#FFA15A",
           "#19d3f3",
           "#FF6692",
           "#B6E880",
           "#FF97FF",
           "#FECB52"
          ],
          "font": {
           "color": "#2a3f5f"
          },
          "geo": {
           "bgcolor": "white",
           "lakecolor": "white",
           "landcolor": "#E5ECF6",
           "showlakes": true,
           "showland": true,
           "subunitcolor": "white"
          },
          "hoverlabel": {
           "align": "left"
          },
          "hovermode": "closest",
          "mapbox": {
           "style": "light"
          },
          "paper_bgcolor": "white",
          "plot_bgcolor": "#E5ECF6",
          "polar": {
           "angularaxis": {
            "gridcolor": "white",
            "linecolor": "white",
            "ticks": ""
           },
           "bgcolor": "#E5ECF6",
           "radialaxis": {
            "gridcolor": "white",
            "linecolor": "white",
            "ticks": ""
           }
          },
          "scene": {
           "xaxis": {
            "backgroundcolor": "#E5ECF6",
            "gridcolor": "white",
            "gridwidth": 2,
            "linecolor": "white",
            "showbackground": true,
            "ticks": "",
            "zerolinecolor": "white"
           },
           "yaxis": {
            "backgroundcolor": "#E5ECF6",
            "gridcolor": "white",
            "gridwidth": 2,
            "linecolor": "white",
            "showbackground": true,
            "ticks": "",
            "zerolinecolor": "white"
           },
           "zaxis": {
            "backgroundcolor": "#E5ECF6",
            "gridcolor": "white",
            "gridwidth": 2,
            "linecolor": "white",
            "showbackground": true,
            "ticks": "",
            "zerolinecolor": "white"
           }
          },
          "shapedefaults": {
           "line": {
            "color": "#2a3f5f"
           }
          },
          "ternary": {
           "aaxis": {
            "gridcolor": "white",
            "linecolor": "white",
            "ticks": ""
           },
           "baxis": {
            "gridcolor": "white",
            "linecolor": "white",
            "ticks": ""
           },
           "bgcolor": "#E5ECF6",
           "caxis": {
            "gridcolor": "white",
            "linecolor": "white",
            "ticks": ""
           }
          },
          "title": {
           "x": 0.05
          },
          "xaxis": {
           "automargin": true,
           "gridcolor": "white",
           "linecolor": "white",
           "ticks": "",
           "title": {
            "standoff": 15
           },
           "zerolinecolor": "white",
           "zerolinewidth": 2
          },
          "yaxis": {
           "automargin": true,
           "gridcolor": "white",
           "linecolor": "white",
           "ticks": "",
           "title": {
            "standoff": 15
           },
           "zerolinecolor": "white",
           "zerolinewidth": 2
          }
         }
        },
        "title": {
         "text": "Medal Performance Comparison (1920 Summer)"
        },
        "xaxis": {
         "anchor": "y",
         "domain": [
          0,
          1
         ],
         "title": {
          "text": "NOC"
         }
        },
        "yaxis": {
         "anchor": "x",
         "domain": [
          0,
          1
         ],
         "title": {
          "text": "Total Medal Weight"
         }
        }
       }
      }
     },
     "metadata": {},
     "output_type": "display_data"
    }
   ],
   "source": [
    "\n",
    "def convert_medal_values(medal_series):\n",
    "  medal_dict = {'Gold': 1, 'Silver': 1, 'Bronze': 1, np.NAN: 0}\n",
    "  return medal_series.replace(medal_dict)\n",
    "\n",
    "# Function to calculate medal counts for groups (considering medal values)\n",
    "def calculate_medal_counts(data, group_col):\n",
    "  data['Medal Value'] = convert_medal_values(data['Medal'])  # Convert medal values\n",
    "  grouped_data = data.groupby(group_col)\n",
    "  medal_weights = grouped_data['Medal Value'].sum()  # Sum medal values per group\n",
    "  return medal_weights\n",
    "\n",
    "# Function to compare medal performance between NOCs using Plotly\n",
    "def compare_noc_performance_interactive(data, noc_list, year):\n",
    "  filtered_data = data[(data['NOC'].isin(noc_list)) & (data['Games'] == year)]  # Filter by NOCs and year\n",
    "  noc_medals = calculate_medal_counts(filtered_data.copy(), 'NOC')\n",
    "  fig = bar(noc_medals, x=noc_medals.index, title=f\"Medal Performance Comparison ({year})\")\n",
    "  fig.update_layout(xaxis_title='NOC', yaxis_title='Total Medal Weight')\n",
    "  fig.show()  # Display the interactive plot\n",
    "\n",
    "# Get user input for NOCs (comma-separated)\n",
    "nocs = input(\"Enter a comma-separated list of NOCs to compare (e.g., USA,CHN,GBR): \")\n",
    "noc_list = nocs.strip().split(',')  # Split input into a list\n",
    "\n",
    "# Get user input for year\n",
    "year = input(\"Enter the year to compare (e.g., 2012 Summer): \")\n",
    "\n",
    "# Compare medal performance\n",
    "compare_noc_performance_interactive(df.copy(), noc_list, year)\n"
   ]
  },
  {
   "cell_type": "markdown",
   "metadata": {},
   "source": [
    "# A4: Seasonality (Medium Importance, Consider Scope)"
   ]
  },
  {
   "cell_type": "code",
   "execution_count": 118,
   "metadata": {},
   "outputs": [
    {
     "data": {
      "image/png": "[encoded data removed]",
      "text/plain": [
       "<Figure size 576x432 with 1 Axes>"
      ]
     },
     "metadata": {
      "needs_background": "light"
     },
     "output_type": "display_data"
    }
   ],
   "source": [
    "\n",
    "medal_counts_by_season = df.groupby('Season')['Medal'].count()\n",
    "plt.figure(figsize=(8, 6))\n",
    "medal_counts_by_season.plot(kind='bar', color=['skyblue', 'lightgreen'])\n",
    "plt.title('Medal Distribution (Summer vs. Winter)')\n",
    "plt.xlabel('Season')\n",
    "plt.ylabel('Number of Medals')\n",
    "plt.xticks(rotation=0)\n",
    "plt.show()"
   ]
  },
  {
   "cell_type": "code",
   "execution_count": 119,
   "metadata": {},
   "outputs": [
    {
     "name": "stdout",
     "output_type": "stream",
     "text": [
      "Emerging Sports:\n",
      "Athletics       38624\n",
      "Gymnastics      26707\n",
      "Swimming        23195\n",
      "Shooting        11448\n",
      "Cycling         10859\n",
      "                ...  \n",
      "Croquet            19\n",
      "Motorboating       17\n",
      "Racquets           12\n",
      "Jeu De Paume       11\n",
      "Roque               4\n",
      "Name: Sport, Length: 64, dtype: int64\n"
     ]
    }
   ],
   "source": [
    "sport_counts = df['Sport'].value_counts()\n",
    "threshold = 3\n",
    "emerging_sports = sport_counts[sport_counts >= threshold]\n",
    "print(\"Emerging Sports:\")\n",
    "print(emerging_sports)"
   ]
  },
  {
   "cell_type": "code",
   "execution_count": null,
   "metadata": {},
   "outputs": [],
   "source": []
  }
 ],
 "metadata": {
  "kernelspec": {
   "display_name": "Python 3",
   "language": "python",
   "name": "python3"
  },
  "language_info": {
   "codemirror_mode": {
    "name": "ipython",
    "version": 3
   },
   "file_extension": ".py",
   "mimetype": "text/x-python",
   "name": "python",
   "nbconvert_exporter": "python",
   "pygments_lexer": "ipython3",
   "version": "3.10.6"
  }
 },
 "nbformat": 4,
 "nbformat_minor": 2
}
